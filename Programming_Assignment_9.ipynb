{
  "nbformat": 4,
  "nbformat_minor": 0,
  "metadata": {
    "colab": {
      "provenance": [],
      "authorship_tag": "ABX9TyO9/rV36l0hTeuV/8r9S5kv",
      "include_colab_link": true
    },
    "kernelspec": {
      "name": "python3",
      "display_name": "Python 3"
    },
    "language_info": {
      "name": "python"
    }
  },
  "cells": [
    {
      "cell_type": "markdown",
      "metadata": {
        "id": "view-in-github",
        "colab_type": "text"
      },
      "source": [
        "<a href=\"https://colab.research.google.com/github/biswaranjandash/FSDSassignments/blob/Python_Programming-Assignment/Programming_Assignment_9.ipynb\" target=\"_parent\"><img src=\"https://colab.research.google.com/assets/colab-badge.svg\" alt=\"Open In Colab\"/></a>"
      ]
    },
    {
      "cell_type": "code",
      "execution_count": 1,
      "metadata": {
        "colab": {
          "base_uri": "https://localhost:8080/"
        },
        "id": "tbbdj0B95B4X",
        "outputId": "f40617b6-4f8c-4454-c735-7beb4fc9c150"
      },
      "outputs": [
        {
          "output_type": "stream",
          "name": "stdout",
          "text": [
            "Enter a Number: 125\n",
            "125 is a Not Disarium Number\n",
            "Enter a Number: 100\n",
            "100 is a Not Disarium Number\n"
          ]
        }
      ],
      "source": [
        "#1.Write a Python Program to check if the given number is a Disarium Number ?\n",
        "def checkDisariumNumber():\n",
        "    in_num = input('Enter a Number: ')\n",
        "    sum = 0\n",
        "    for item in range(len(in_num)):\n",
        "        sum = sum + int(in_num[item])**(item+1)\n",
        "    if sum == int(in_num):\n",
        "        print(f'{in_num} is a Disarium Number')\n",
        "    else:\n",
        "        print(f'{in_num} is a Not Disarium Number')\n",
        "\n",
        "checkDisariumNumber()\n",
        "checkDisariumNumber()"
      ]
    },
    {
      "cell_type": "code",
      "source": [
        "#2.Write a Python Program to print all Disarium numbers between 1 to 100 ?\n",
        "def printDisariumNumbers(start=0,end=100):\n",
        "    output_num = []\n",
        "    for number in range(start,end+1):\n",
        "        sum = 0\n",
        "        for item in range(len(str(number))):\n",
        "            sum = sum + int(str(number)[item])**(item+1)\n",
        "        if sum == number:\n",
        "            output_num.append(number)\n",
        "    return output_num\n",
        "\n",
        "\n",
        "printDisariumNumbers(1,1000)"
      ],
      "metadata": {
        "colab": {
          "base_uri": "https://localhost:8080/"
        },
        "id": "ysKOv9Iw5l7I",
        "outputId": "22dab655-affd-4087-9a7a-c6362b1bf532"
      },
      "execution_count": 2,
      "outputs": [
        {
          "output_type": "execute_result",
          "data": {
            "text/plain": [
              "[1, 2, 3, 4, 5, 6, 7, 8, 9, 89, 135, 175, 518, 598]"
            ]
          },
          "metadata": {},
          "execution_count": 2
        }
      ]
    },
    {
      "cell_type": "code",
      "source": [
        "#3.Write a Python Program to check if the given number is Happy Number ?\n",
        "def checkHappyNumber():\n",
        "    in_num = input('Enter a Number: ')\n",
        "    in_num_duplicate = in_num\n",
        "    trackNumber = set()\n",
        "    while True:\n",
        "        if in_num != '1' and str(in_num) not in trackNumber:\n",
        "            trackNumber.add(in_num)\n",
        "            sum = 0\n",
        "            for ele in range(len((in_num))):\n",
        "                sum = sum + int(in_num[ele])**2\n",
        "            in_num = str(sum)\n",
        "        elif str(in_num) in trackNumber:\n",
        "            print(f'{in_num_duplicate} is not a Happy Number')\n",
        "            break\n",
        "        else:\n",
        "            print(f'{in_num_duplicate} is a Happy Number')\n",
        "            break\n",
        "\n",
        "checkHappyNumber()\n",
        "checkHappyNumber()"
      ],
      "metadata": {
        "colab": {
          "base_uri": "https://localhost:8080/"
        },
        "id": "SHqjzrg65rci",
        "outputId": "59994122-e74e-4dee-91c7-44a3d6461f2e"
      },
      "execution_count": 4,
      "outputs": [
        {
          "output_type": "stream",
          "name": "stdout",
          "text": [
            "Enter a Number: 5\n",
            "5 is not a Happy Number\n",
            "Enter a Number: 8\n",
            "8 is not a Happy Number\n"
          ]
        }
      ]
    },
    {
      "cell_type": "code",
      "source": [
        "#4.Write a Python Program to print all Happy numbers between 1 and 100 ?\n",
        "def checkHappyNumber(start=0,end=100):\n",
        "    happyNumbersList = []\n",
        "    for in_num in range(start,end+1):\n",
        "        in_num = str(in_num)\n",
        "        inum_holder = in_num\n",
        "        trackNumber = set()\n",
        "        while True:\n",
        "            if in_num != '1' and str(in_num) not in trackNumber:\n",
        "                trackNumber.add(in_num)\n",
        "                sum = 0\n",
        "                for ele in range(len((in_num))):\n",
        "                    sum = sum + int(in_num[ele])**2\n",
        "                in_num = str(sum)\n",
        "            elif str(in_num) in trackNumber:\n",
        "                break\n",
        "            else:\n",
        "                happyNumbersList.append(int(inum_holder))\n",
        "                break\n",
        "    print(f'The Happy Numbers between {start} and {end} are {happyNumbersList}')\n",
        "\n",
        "checkHappyNumber(0,100)"
      ],
      "metadata": {
        "colab": {
          "base_uri": "https://localhost:8080/"
        },
        "id": "Qs6aOng25wni",
        "outputId": "759c2c84-a7b8-4bf8-e544-a9d36f38eefd"
      },
      "execution_count": 5,
      "outputs": [
        {
          "output_type": "stream",
          "name": "stdout",
          "text": [
            "The Happy Numbers between 0 and 100 are [1, 7, 10, 13, 19, 23, 28, 31, 32, 44, 49, 68, 70, 79, 82, 86, 91, 94, 97, 100]\n"
          ]
        }
      ]
    },
    {
      "cell_type": "code",
      "source": [
        "#5.Write a Python Program to determine whether the given number is a Harshad Number ?\n",
        "def checkHarshadNumber():\n",
        "    in_num = input('Enter a Number: ')\n",
        "    sum = 0\n",
        "    for item in range(len(in_num)):\n",
        "        sum = sum + int(in_num[item])\n",
        "    if int(in_num)%sum == 0:\n",
        "        print(f'{in_num} is a Harshad Number')\n",
        "    else:\n",
        "        print(f'{in_num} is a Not Harshad Number')\n",
        "\n",
        "checkHarshadNumber()\n",
        "checkHarshadNumber()"
      ],
      "metadata": {
        "colab": {
          "base_uri": "https://localhost:8080/"
        },
        "id": "FIB420hT59Mz",
        "outputId": "a44300ed-ffcb-435d-c3da-beb5f8bf93bc"
      },
      "execution_count": 7,
      "outputs": [
        {
          "output_type": "stream",
          "name": "stdout",
          "text": [
            "Enter a Number: 20\n",
            "20 is a Harshad Number\n",
            "Enter a Number: 424\n",
            "424 is a Not Harshad Number\n"
          ]
        }
      ]
    },
    {
      "cell_type": "code",
      "source": [
        "#6.Write a Python Program to print all pronic numbers between 1 and 100 ?\n",
        "def printPronicNumbers(start=0,end=100):\n",
        "    outputList = []\n",
        "    for ele in range(start,end+1):\n",
        "        outputList.append((ele)*(ele+1))\n",
        "    print(outputList)\n",
        "\n",
        "printPronicNumbers()"
      ],
      "metadata": {
        "colab": {
          "base_uri": "https://localhost:8080/"
        },
        "id": "hAGQZHJH6CqW",
        "outputId": "c91ca954-407c-4e1e-a99c-7ebbf8cb9b39"
      },
      "execution_count": 8,
      "outputs": [
        {
          "output_type": "stream",
          "name": "stdout",
          "text": [
            "[0, 2, 6, 12, 20, 30, 42, 56, 72, 90, 110, 132, 156, 182, 210, 240, 272, 306, 342, 380, 420, 462, 506, 552, 600, 650, 702, 756, 812, 870, 930, 992, 1056, 1122, 1190, 1260, 1332, 1406, 1482, 1560, 1640, 1722, 1806, 1892, 1980, 2070, 2162, 2256, 2352, 2450, 2550, 2652, 2756, 2862, 2970, 3080, 3192, 3306, 3422, 3540, 3660, 3782, 3906, 4032, 4160, 4290, 4422, 4556, 4692, 4830, 4970, 5112, 5256, 5402, 5550, 5700, 5852, 6006, 6162, 6320, 6480, 6642, 6806, 6972, 7140, 7310, 7482, 7656, 7832, 8010, 8190, 8372, 8556, 8742, 8930, 9120, 9312, 9506, 9702, 9900, 10100]\n"
          ]
        }
      ]
    },
    {
      "cell_type": "code",
      "source": [],
      "metadata": {
        "id": "KblQL8IQ6QhD"
      },
      "execution_count": null,
      "outputs": []
    }
  ]
}