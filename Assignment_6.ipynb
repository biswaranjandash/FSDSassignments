{
  "nbformat": 4,
  "nbformat_minor": 0,
  "metadata": {
    "colab": {
      "provenance": [],
      "authorship_tag": "ABX9TyPH33/y9kpSY1SN1tKXUS8B",
      "include_colab_link": true
    },
    "kernelspec": {
      "name": "python3",
      "display_name": "Python 3"
    },
    "language_info": {
      "name": "python"
    }
  },
  "cells": [
    {
      "cell_type": "markdown",
      "metadata": {
        "id": "view-in-github",
        "colab_type": "text"
      },
      "source": [
        "<a href=\"https://colab.research.google.com/github/biswaranjandash/FSDSassignments/blob/main/Assignment_6.ipynb\" target=\"_parent\"><img src=\"https://colab.research.google.com/assets/colab-badge.svg\" alt=\"Open In Colab\"/></a>"
      ]
    },
    {
      "cell_type": "code",
      "execution_count": 1,
      "metadata": {
        "id": "Q6RJDsbB5uyY"
      },
      "outputs": [],
      "source": [
        "# 1.What are Escape characters ? and how do you use them ?\n",
        "#Ans: Escape characters represent characters in string values that would otherwise be difficult or impossible to type into code. we can use the backslash character to escape a single character or symbol\n",
        "#example: \\t, \\n"
      ]
    },
    {
      "cell_type": "code",
      "source": [
        "#2.What do the escape characters n and t stand for ?\n",
        "#Ans: \\n is a newline, \\t is a tab"
      ],
      "metadata": {
        "id": "5pM3RpuM6e14"
      },
      "execution_count": 2,
      "outputs": []
    },
    {
      "cell_type": "code",
      "source": [
        "#3.What is the way to include backslash character in a string?\n",
        "#Ans: The \\\\ escape character will represent the backslash character in a string"
      ],
      "metadata": {
        "id": "fiwipRTC6jky"
      },
      "execution_count": 3,
      "outputs": []
    },
    {
      "cell_type": "code",
      "source": [
        "#4.The string \"Howl's Moving Castle\" is a correct value. Why isn't the single quote character in the word Howl's not escaped a problem ?\n",
        "#Ans: The string \"Howl's Moving Castle\" escaped the problem because it is wrapped inside double quotes. if its wrapped inside single quotes then we have to use escape character \\' to show single quote in the final output\n",
        "#'Howl\\'s Moving Castle' -> 'Howl's Moving Castle'"
      ],
      "metadata": {
        "id": "Koafuojf62XW"
      },
      "execution_count": 4,
      "outputs": []
    },
    {
      "cell_type": "code",
      "source": [
        "#5.How do you write a string of newlines if you don't want to use the n character?\n",
        "#Ans: Multiline string allow you to use newlines in string without the \\n escape character\n",
        "# Example:\n",
        "a = '''iNeuron full stack\n",
        "Data Science Course'''\n",
        "print(a)"
      ],
      "metadata": {
        "colab": {
          "base_uri": "https://localhost:8080/"
        },
        "id": "6DQb6Wjs7Ebm",
        "outputId": "689a589f-d6a3-4712-9680-b80af6ed9370"
      },
      "execution_count": 5,
      "outputs": [
        {
          "output_type": "stream",
          "name": "stdout",
          "text": [
            "iNeuron full stack\n",
            "Data Science Course\n"
          ]
        }
      ]
    },
    {
      "cell_type": "code",
      "source": [
        "#6.What are the values of the given expressions ?\n",
        "#'Hello, world!'[1]\n",
        "#'Hello, world!'[0:5]\n",
        "#'Hello, world!'[:5]\n",
        "#'Hello, world!'[3:]\n",
        "\n",
        "#Ans: The values for the given expressions are:\n",
        "#'Hello, world!'[1] -> 'e'\n",
        "#'Hello, world!'[0:5] -> 'Hello'\n",
        "#'Hello, world!'[:5] -> 'Hello'\n",
        "#'Hello, world!'[3:] -> 'lo, world!'"
      ],
      "metadata": {
        "id": "fGaylD5Z7Nfk"
      },
      "execution_count": 6,
      "outputs": []
    },
    {
      "cell_type": "code",
      "source": [
        "#7.What are the values of the following expressions ?\n",
        "#'Hello'.upper()\n",
        "#'Hello'.upper().isupper()\n",
        "#'Hello'.upper().lower()\n",
        "\n",
        "#Ans: The values for the given expressions are:\n",
        "#'Hello'.upper() -> 'HELLO'\n",
        "#'Hello'.upper().isupper() -> True\n",
        "#'Hello'.upper().lower() -> 'hello'"
      ],
      "metadata": {
        "id": "B74_WeVV7oj-"
      },
      "execution_count": 8,
      "outputs": []
    },
    {
      "cell_type": "code",
      "source": [
        "#8.What are the values of the following expressions ?\n",
        "#'Remember, remember, the fifith of July.'.split()\n",
        "#-'.join('There can only one'.split())\n",
        "\n",
        "#Ans: The values for the given expressions are:\n",
        "#'Remember, remember, the fifith of July.'.split() -> ['Remember,', 'remember,', 'the', 'fifith', 'of', 'July.']\n",
        "#'-'.join('There can only one'.split()) -> 'There-can-only-one'"
      ],
      "metadata": {
        "id": "qKH8sHr273cY"
      },
      "execution_count": 9,
      "outputs": []
    },
    {
      "cell_type": "code",
      "source": [
        "#9.What are the methods for right-justifying, left-justifying and centering a string ?\n",
        "#Ans: The rjust(),ljust(),center() string methods, respectively"
      ],
      "metadata": {
        "id": "fvnpn--k8bjC"
      },
      "execution_count": 10,
      "outputs": []
    },
    {
      "cell_type": "code",
      "source": [
        "#10.What is the best way to remove whitespace characters from the start or end ?\n",
        "#Ans: The lstrip() and rstrip() methods remove whitesapce characters from the left and right ends of a string respectively"
      ],
      "metadata": {
        "id": "NNzWVzCb8daB"
      },
      "execution_count": 11,
      "outputs": []
    },
    {
      "cell_type": "code",
      "source": [],
      "metadata": {
        "id": "DesB2vgj8lhp"
      },
      "execution_count": null,
      "outputs": []
    }
  ]
}