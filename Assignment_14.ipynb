{
  "nbformat": 4,
  "nbformat_minor": 0,
  "metadata": {
    "colab": {
      "provenance": [],
      "authorship_tag": "ABX9TyNLfOrb+FsbXQkDocS1ilTV",
      "include_colab_link": true
    },
    "kernelspec": {
      "name": "python3",
      "display_name": "Python 3"
    },
    "language_info": {
      "name": "python"
    }
  },
  "cells": [
    {
      "cell_type": "markdown",
      "metadata": {
        "id": "view-in-github",
        "colab_type": "text"
      },
      "source": [
        "<a href=\"https://colab.research.google.com/github/biswaranjandash/FSDSassignments/blob/main/Assignment_14.ipynb\" target=\"_parent\"><img src=\"https://colab.research.google.com/assets/colab-badge.svg\" alt=\"Open In Colab\"/></a>"
      ]
    },
    {
      "cell_type": "code",
      "execution_count": 1,
      "metadata": {
        "id": "5WMoWXXDjcRJ"
      },
      "outputs": [],
      "source": [
        "#1. What does RGBA stand for?\n",
        "#Ans: RGBA is a four-channel format containing data for Red, Green, Blue, and an Alpha value. Where Alpha Represents the Opacity"
      ]
    },
    {
      "cell_type": "code",
      "source": [
        "#2. From the Pillow module, how do you get the RGBA value of any images?\n",
        "#Ans: ImageColor.getcolor() gives rgba value of any image"
      ],
      "metadata": {
        "id": "0jtMbCkojwJH"
      },
      "execution_count": 2,
      "outputs": []
    },
    {
      "cell_type": "code",
      "source": [
        "#3. What is a box tuple, and how does it work?\n",
        "#Ans: A box tuple is a tuple value of four integers: the left-edge x-coordinate, the top-edge y-coordinate,the width, and the height, respectively."
      ],
      "metadata": {
        "id": "N2mBpH9_j4mO"
      },
      "execution_count": 3,
      "outputs": []
    },
    {
      "cell_type": "code",
      "source": [
        "#4. Use your image and load in notebook then, How can you find out the width and height of an Image object?\n",
        "#Example Program\n",
        "from PIL import Image\n",
        "pic = Image.open('/content/download.jpg')\n",
        "print(f'Width, Height -> {pic.size}') # Approach 1\n",
        "print(f'Width, Height -> {pic.width},{pic.height}') # Approach 2\n",
        "width,height = pic.size\n",
        "print(f'Width, Height -> {width},{height}') # Approach 3"
      ],
      "metadata": {
        "colab": {
          "base_uri": "https://localhost:8080/"
        },
        "id": "MRQqt75SkGAp",
        "outputId": "229305e8-71b7-4ee3-e5fb-219b6490b8bb"
      },
      "execution_count": 5,
      "outputs": [
        {
          "output_type": "stream",
          "name": "stdout",
          "text": [
            "Width, Height -> (185, 123)\n",
            "Width, Height -> 185,123\n",
            "Width, Height -> 185,123\n"
          ]
        }
      ]
    },
    {
      "cell_type": "code",
      "source": [
        "#5. What method would you call to get Image object for a 100×100 image, excluding the lower-left quarter of it?\n",
        "from PIL import Image\n",
        "img = Image.open('/content/download.jpg')\n",
        "new_img = img.crop((0,50,50,50))"
      ],
      "metadata": {
        "id": "ky38gF31kLCf"
      },
      "execution_count": 6,
      "outputs": []
    },
    {
      "cell_type": "code",
      "source": [
        "#6. After making changes to an Image object, how could you save it as an image file?\n",
        "#Example Program\n",
        "from PIL import Image\n",
        "pic = Image.open('/content/download.jpg')\n",
        "pic.save('pic2.jpg')"
      ],
      "metadata": {
        "id": "h-GN6RJsk5P9"
      },
      "execution_count": 7,
      "outputs": []
    },
    {
      "cell_type": "code",
      "source": [
        "#7. What module contains Pillow’s shape-drawing code?\n",
        "#Ans: Pillows ImageDraw module contains Shape drawing methods"
      ],
      "metadata": {
        "id": "25L8n7RdlNuk"
      },
      "execution_count": 8,
      "outputs": []
    },
    {
      "cell_type": "code",
      "source": [
        "#8. Image objects do not have drawing methods. What kind of object does? How do you get this kind of object?\n",
        "#Ans: ImageDraw objects have shape-drawing methods such as point(), line(), or rectangle().They are returned by passing the Image object to the ImageDraw.Draw() function."
      ],
      "metadata": {
        "id": "xYGDLJr1lUPD"
      },
      "execution_count": 9,
      "outputs": []
    },
    {
      "cell_type": "code",
      "source": [],
      "metadata": {
        "id": "KLblPb_ClaJ-"
      },
      "execution_count": null,
      "outputs": []
    }
  ]
}