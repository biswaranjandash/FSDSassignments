{
  "nbformat": 4,
  "nbformat_minor": 0,
  "metadata": {
    "colab": {
      "provenance": [],
      "authorship_tag": "ABX9TyOxmeVD159l58fMiWf2GGuG",
      "include_colab_link": true
    },
    "kernelspec": {
      "name": "python3",
      "display_name": "Python 3"
    },
    "language_info": {
      "name": "python"
    }
  },
  "cells": [
    {
      "cell_type": "markdown",
      "metadata": {
        "id": "view-in-github",
        "colab_type": "text"
      },
      "source": [
        "<a href=\"https://colab.research.google.com/github/biswaranjandash/FSDSassignments/blob/main/Assignment_22.ipynb\" target=\"_parent\"><img src=\"https://colab.research.google.com/assets/colab-badge.svg\" alt=\"Open In Colab\"/></a>"
      ]
    },
    {
      "cell_type": "code",
      "execution_count": 2,
      "metadata": {
        "colab": {
          "base_uri": "https://localhost:8080/"
        },
        "id": "5bKotMup9aX1",
        "outputId": "d590833a-9cd6-45b4-95cc-c0bb23b114b3"
      },
      "outputs": [
        {
          "output_type": "stream",
          "name": "stdout",
          "text": [
            "iNeuron\n"
          ]
        }
      ],
      "source": [
        "#1. What is the result of the code, and explain?\n",
        "#>>> X = 'iNeuron'\n",
        "#>>> def func():\n",
        "#print(X)\n",
        "#>>> func()\n",
        "#Ans: The Result of this code is iNeuron, it's because the function intially looks for the variable X in its local scope,But since there is no local variable X, its returns the value of global variable x ie iNeuron\n",
        "\n",
        "X = 'iNeuron'\n",
        "def func():\n",
        "    print(X)\n",
        "func()"
      ]
    },
    {
      "cell_type": "code",
      "source": [
        "#2. What is the result of the code, and explain?\n",
        "#>>> X = 'iNeuron'\n",
        "#>>> def func():\n",
        "#X = 'NI!'\n",
        "#>>> func()\n",
        "#>>> print(X)\n",
        "#Ans: The Result of this cide is NI!, because the function initially looks for the variable X in its local scope if X is not available then it checks for variable X in the global scope, Since here the X is present in the local scope. it prints the value NI!\n",
        "\n",
        "X = 'iNeuron'\n",
        "def func():\n",
        "    X = 'NI!'\n",
        "    print(X)\n",
        "func()"
      ],
      "metadata": {
        "colab": {
          "base_uri": "https://localhost:8080/"
        },
        "id": "isQvfNIZ9vyy",
        "outputId": "da6eb818-3008-4a64-d99d-eaae9eb702d8"
      },
      "execution_count": 3,
      "outputs": [
        {
          "output_type": "stream",
          "name": "stdout",
          "text": [
            "NI!\n"
          ]
        }
      ]
    },
    {
      "cell_type": "code",
      "source": [
        "#3. What does this code print, and why?\n",
        "#>>> X = 'iNeuron'\n",
        "#>>> def func():\n",
        "#X = 'NI'\n",
        "#print(X)\n",
        "#>>> func()\n",
        "#>>> print(X)\n",
        "#Ans: The output of the code is NI and iNeuron. X=NI is in the local scope of the function func() hence the function prints the x value as NI. X = 'iNeuron' is in the global scope. hence print(X) prints output as iNeuron\n",
        "\n",
        "X = 'iNeuron'\n",
        "def func():\n",
        "    X = 'NI'\n",
        "    print(X)\n",
        "func()\n",
        "print(X)"
      ],
      "metadata": {
        "colab": {
          "base_uri": "https://localhost:8080/"
        },
        "id": "W2zm4Wkr-Kl8",
        "outputId": "cc2dfd9e-f1a9-4d38-ec7a-a7cc77c33d73"
      },
      "execution_count": 4,
      "outputs": [
        {
          "output_type": "stream",
          "name": "stdout",
          "text": [
            "NI\n",
            "iNeuron\n"
          ]
        }
      ]
    },
    {
      "cell_type": "code",
      "source": [
        "#4. What output does this code produce? Why?\n",
        "#>>> X = 'iNeuron'\n",
        "#>>> def func():\n",
        "#global X\n",
        "#X = 'NI'\n",
        "#>>> func()\n",
        "#>>> print(X)\n",
        "#Ans: The output of the code is NI. the global keyword allows a variable to be accessible in the current scope. since we are using global keyword inside the function func it directly access the variable in X in global scope. and changes its value to NI. hence the output of the code is NI\n",
        "\n",
        "X = 'iNeuron'\n",
        "def func():\n",
        "    global X\n",
        "    X = 'NI'\n",
        "func()\n",
        "print(X)"
      ],
      "metadata": {
        "colab": {
          "base_uri": "https://localhost:8080/"
        },
        "id": "Vw2wgt_n-VqX",
        "outputId": "493d1edc-3d22-4972-ca9c-18a21784091c"
      },
      "execution_count": 5,
      "outputs": [
        {
          "output_type": "stream",
          "name": "stdout",
          "text": [
            "NI\n"
          ]
        }
      ]
    },
    {
      "cell_type": "code",
      "source": [
        "#5. What about this code—what’s the output, and why?\n",
        "#>>> X = 'iNeuron'\n",
        "#>>> def func():\n",
        "#X = 'NI'\n",
        "#def nested():\n",
        "#print(X)\n",
        "#nested()\n",
        "#>>> func()\n",
        "#>>> X\n",
        "#Ans: The output of the code is NI. the reason for this output is if a function wants to access a variable, if its not available in its localscope. it looks for the variable in its global scope. similarly here also function nested looks for variable X in its global scope. hence the output of the code is NI\n",
        "\n",
        "X = 'iNeuron'\n",
        "def func():\n",
        "    X = 'NI'\n",
        "    def nested():\n",
        "        print(X)\n",
        "    nested()\n",
        "func()\n",
        "X"
      ],
      "metadata": {
        "colab": {
          "base_uri": "https://localhost:8080/",
          "height": 53
        },
        "id": "0NKlf3va-gOo",
        "outputId": "9aaff3a8-4ca4-4992-81bd-0ef8a99cc95a"
      },
      "execution_count": 6,
      "outputs": [
        {
          "output_type": "stream",
          "name": "stdout",
          "text": [
            "NI\n"
          ]
        },
        {
          "output_type": "execute_result",
          "data": {
            "text/plain": [
              "'iNeuron'"
            ],
            "application/vnd.google.colaboratory.intrinsic+json": {
              "type": "string"
            }
          },
          "metadata": {},
          "execution_count": 6
        }
      ]
    },
    {
      "cell_type": "code",
      "source": [
        "#6. How about this code: what is its output in Python 3, and explain?\n",
        "#>>> def func():\n",
        "#X = 'NI'\n",
        "#def nested():\n",
        "#nonlocal X\n",
        "#X = 'Spam'\n",
        "#nested()\n",
        "#print(X)\n",
        "#>>> func()\n",
        "#Ans: The output of the code is Spam. nonlocal keyword in python is used to declare a variable as not local.Hence the statement X = \"Spam\" is modified in the global scope. hence the output of print(X) statement is Spam\n",
        "\n",
        "def func():\n",
        "    X = 'NI'\n",
        "    def nested():\n",
        "        nonlocal X\n",
        "        X = 'Spam'\n",
        "    nested()\n",
        "    print(X)\n",
        "func()"
      ],
      "metadata": {
        "colab": {
          "base_uri": "https://localhost:8080/"
        },
        "id": "jSzFrVPC-uHt",
        "outputId": "eb79e78e-4222-4b0d-903f-fa8d46fd009d"
      },
      "execution_count": 7,
      "outputs": [
        {
          "output_type": "stream",
          "name": "stdout",
          "text": [
            "Spam\n"
          ]
        }
      ]
    },
    {
      "cell_type": "code",
      "source": [],
      "metadata": {
        "id": "KhnDOZK3-6Sa"
      },
      "execution_count": null,
      "outputs": []
    }
  ]
}