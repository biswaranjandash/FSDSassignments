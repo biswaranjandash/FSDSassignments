{
  "nbformat": 4,
  "nbformat_minor": 0,
  "metadata": {
    "colab": {
      "provenance": [],
      "authorship_tag": "ABX9TyN8HiZjjIT3YKz7QAwwS+0D",
      "include_colab_link": true
    },
    "kernelspec": {
      "name": "python3",
      "display_name": "Python 3"
    },
    "language_info": {
      "name": "python"
    }
  },
  "cells": [
    {
      "cell_type": "markdown",
      "metadata": {
        "id": "view-in-github",
        "colab_type": "text"
      },
      "source": [
        "<a href=\"https://colab.research.google.com/github/biswaranjandash/FSDSassignments/blob/main/Assignment_20.ipynb\" target=\"_parent\"><img src=\"https://colab.research.google.com/assets/colab-badge.svg\" alt=\"Open In Colab\"/></a>"
      ]
    },
    {
      "cell_type": "code",
      "execution_count": 1,
      "metadata": {
        "colab": {
          "base_uri": "https://localhost:8080/"
        },
        "id": "DMT59SI0q_WI",
        "outputId": "c262902b-613f-4c97-cb71-5cee0342afaa"
      },
      "outputs": [
        {
          "output_type": "stream",
          "name": "stdout",
          "text": [
            "This is a test of the emergency text system,\n"
          ]
        }
      ],
      "source": [
        "#1. Set the variable test1 to the string 'This is a test of the emergency text system,' and save test1 to a file named test.txt.\n",
        "test1 = 'This is a test of the emergency text system,'\n",
        "print(test1)\n",
        "with open('test.txt','w') as file:\n",
        "    file.write(test1)\n",
        "    file.close()"
      ]
    },
    {
      "cell_type": "code",
      "source": [
        "#2. Read the contents of the file test.txt into the variable test2. Is there a difference between test 1 and test 2?\n",
        "with open('test.txt','r') as file:\n",
        "    test2 = file.read()\n",
        "    \n",
        "print(test2)   \n",
        "print(test1 == test2)"
      ],
      "metadata": {
        "colab": {
          "base_uri": "https://localhost:8080/"
        },
        "id": "7zlbZZkQrZLy",
        "outputId": "14048f19-fd4c-4509-ef02-827b7ff7d5f7"
      },
      "execution_count": 2,
      "outputs": [
        {
          "output_type": "stream",
          "name": "stdout",
          "text": [
            "This is a test of the emergency text system,\n",
            "True\n"
          ]
        }
      ]
    },
    {
      "cell_type": "code",
      "source": [
        "#3. Create a CSV file called books.csv by using these lines:\n",
        "#title,author,year\n",
        "#The Weirdstone of Brisingamen,Alan Garner,1960\n",
        "#Perdido Street Station,China Miéville,2000\n",
        "#Thud!,Terry Pratchett,2005\n",
        "#The Spellman Files,Lisa Lutz,2007\n",
        "#Small Gods,Terry Pratchett,1992\n",
        "\n",
        "data = '''title,author,year\n",
        "The Weirdstone of Brisingamen,Alan Garner,1960\n",
        "Perdido Street Station,China Miéville,2000\n",
        "Thud!,Terry Pratchett,2005\n",
        "The Spellman Files,Lisa Lutz,2007\n",
        "Small Gods,Terry Pratchett,1992'''\n",
        "\n",
        "with open('books.csv','w') as file:\n",
        "    file.write(data)"
      ],
      "metadata": {
        "id": "_pGapXv5riUF"
      },
      "execution_count": 4,
      "outputs": []
    },
    {
      "cell_type": "code",
      "source": [
        "#4. Use the sqlite3 module to create a SQLite database called books.db, and a table called books with these fields: title (text), author (text), and year (integer).\n",
        "import sqlite3\n",
        "db = sqlite3.connect('books.db')\n",
        "cursor = db.cursor()\n",
        "cursor.execute(\"CREATE TABLE books (title text, author text, year int)\")\n",
        "db.commit()\n",
        "db.close()"
      ],
      "metadata": {
        "id": "bWQum1Lgrmq6"
      },
      "execution_count": 5,
      "outputs": []
    },
    {
      "cell_type": "code",
      "source": [
        "#5. Read books.csv and insert its data into the books table.\n",
        "import sqlite3\n",
        "import csv\n",
        "conn = sqlite3.connect(\"books.db\")\n",
        "cursor = conn.cursor()\n",
        "with open(\"books.csv\",\"r\") as file:\n",
        "    books = csv.DictReader(file)\n",
        "    for book in books:\n",
        "        cursor.execute(\"INSERT INTO books VALUES (?,?,?)\",(book['title'],book['author'],book['year']))\n",
        "conn.commit()\n",
        "conn.close()"
      ],
      "metadata": {
        "id": "8fAvGeHmr4uL"
      },
      "execution_count": 6,
      "outputs": []
    },
    {
      "cell_type": "code",
      "source": [
        "#6. Select and print the title column from the books table in alphabetical order.\n",
        "import sqlite3\n",
        "conn = sqlite3.connect('books.db')\n",
        "cursor = conn.cursor()\n",
        "output = cursor.execute(\"SELECT title FROM books ORDER BY title ASC\")\n",
        "for ele in output:\n",
        "    print(ele[0])\n",
        "conn.commit()\n",
        "conn.close()"
      ],
      "metadata": {
        "colab": {
          "base_uri": "https://localhost:8080/"
        },
        "id": "jDZ2MiSzr9CR",
        "outputId": "3b7bea97-1819-4172-91e2-267f618ebd64"
      },
      "execution_count": 8,
      "outputs": [
        {
          "output_type": "stream",
          "name": "stdout",
          "text": [
            "Perdido Street Station\n",
            "Small Gods\n",
            "The Spellman Files\n",
            "The Weirdstone of Brisingamen\n",
            "Thud!\n"
          ]
        }
      ]
    },
    {
      "cell_type": "code",
      "source": [
        "#7. From the books table, select and print all columns in the order of publication.\n",
        "import sqlite3\n",
        "conn = sqlite3.connect('books.db')\n",
        "cursor = conn.cursor()\n",
        "ouput = cursor.execute(\"SELECT * FROM books ORDER BY year\")\n",
        "for record in ouput:\n",
        "    print(record)"
      ],
      "metadata": {
        "colab": {
          "base_uri": "https://localhost:8080/"
        },
        "id": "QCos6dXGsCYs",
        "outputId": "ddfd4b64-ff69-4c17-c36d-b553b2e81e6d"
      },
      "execution_count": 9,
      "outputs": [
        {
          "output_type": "stream",
          "name": "stdout",
          "text": [
            "('The Weirdstone of Brisingamen', 'Alan Garner', 1960)\n",
            "('Small Gods', 'Terry Pratchett', 1992)\n",
            "('Perdido Street Station', 'China Miéville', 2000)\n",
            "('Thud!', 'Terry Pratchett', 2005)\n",
            "('The Spellman Files', 'Lisa Lutz', 2007)\n"
          ]
        }
      ]
    },
    {
      "cell_type": "code",
      "source": [
        "#8. Use the sqlalchemy module to connect to the sqlite3 database books.db that you just made in exercise 6.\n",
        "import sqlalchemy\n",
        "conn = sqlalchemy.create_engine('sqlite:///books.db')\n",
        "conn"
      ],
      "metadata": {
        "colab": {
          "base_uri": "https://localhost:8080/"
        },
        "id": "nf7q7CvVsYkP",
        "outputId": "2243fab0-def2-45e2-a316-fcd7f61bbd60"
      },
      "execution_count": 10,
      "outputs": [
        {
          "output_type": "execute_result",
          "data": {
            "text/plain": [
              "Engine(sqlite:///books.db)"
            ]
          },
          "metadata": {},
          "execution_count": 10
        }
      ]
    },
    {
      "cell_type": "code",
      "source": [
        "#9. Install the Redis server and the Python redis library (pip install redis) on your computer. Create a Redis hash called test with the fields count (1) and name ('Fester Bestertester'). Print all the fields for test.\n",
        "! pip install redis"
      ],
      "metadata": {
        "colab": {
          "base_uri": "https://localhost:8080/"
        },
        "id": "Ugr14RjhsdJf",
        "outputId": "7fa9d50b-8b9a-4e4a-c903-9cfc65dc83eb"
      },
      "execution_count": 20,
      "outputs": [
        {
          "output_type": "stream",
          "name": "stdout",
          "text": [
            "Looking in indexes: https://pypi.org/simple, https://us-python.pkg.dev/colab-wheels/public/simple/\n",
            "Requirement already satisfied: redis in /usr/local/lib/python3.10/dist-packages (4.5.5)\n",
            "Requirement already satisfied: async-timeout>=4.0.2 in /usr/local/lib/python3.10/dist-packages (from redis) (4.0.2)\n"
          ]
        }
      ]
    },
    {
      "cell_type": "code",
      "source": [],
      "metadata": {
        "id": "PKGNlAB7smcO"
      },
      "execution_count": null,
      "outputs": []
    }
  ]
}