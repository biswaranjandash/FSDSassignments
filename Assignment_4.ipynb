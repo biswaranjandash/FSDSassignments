{
  "nbformat": 4,
  "nbformat_minor": 0,
  "metadata": {
    "colab": {
      "provenance": [],
      "authorship_tag": "ABX9TyMmrLM/C3uKzoFZr10c/bRJ",
      "include_colab_link": true
    },
    "kernelspec": {
      "name": "python3",
      "display_name": "Python 3"
    },
    "language_info": {
      "name": "python"
    }
  },
  "cells": [
    {
      "cell_type": "markdown",
      "metadata": {
        "id": "view-in-github",
        "colab_type": "text"
      },
      "source": [
        "<a href=\"https://colab.research.google.com/github/biswaranjandash/FSDSassignments/blob/main/Assignment_4.ipynb\" target=\"_parent\"><img src=\"https://colab.research.google.com/assets/colab-badge.svg\" alt=\"Open In Colab\"/></a>"
      ]
    },
    {
      "cell_type": "code",
      "execution_count": 1,
      "metadata": {
        "id": "xV9H2jxHZRdE"
      },
      "outputs": [],
      "source": [
        "#1.What exactly is [ ]?\n",
        "#Ans: The empty list represented by [] is a list that contains no items. This is similar to '' which represents an empty string"
      ]
    },
    {
      "cell_type": "code",
      "source": [
        "#2.In a list of values stored in a variable called spam, how would you assign the value 'hello' as the third value? (Assume [2, 4, 6, 8, 10] are in spam.)\n",
        "#Ans: spam[2]='hello' \n",
        "# Example\n",
        "spam=[2,4,6,8,10]\n",
        "print(spam)\n",
        "spam[2]='hello' #List uses zero based indexing\n",
        "print(spam)"
      ],
      "metadata": {
        "colab": {
          "base_uri": "https://localhost:8080/"
        },
        "id": "O4mLeEvBZtiK",
        "outputId": "13339180-9e4c-4931-a9c5-62fbe788c79b"
      },
      "execution_count": 2,
      "outputs": [
        {
          "output_type": "stream",
          "name": "stdout",
          "text": [
            "[2, 4, 6, 8, 10]\n",
            "[2, 4, 'hello', 8, 10]\n"
          ]
        }
      ]
    },
    {
      "cell_type": "code",
      "source": [
        "#3. What is the value of spam[int(int('3'*2)//11)] ?\n",
        "#Ans: 'd'\n",
        "spam=['a','b','c','d']\n",
        "print(\"spam[int(int('3'*2)//11)] =\",spam[int(int('3'*2)//11)])"
      ],
      "metadata": {
        "colab": {
          "base_uri": "https://localhost:8080/"
        },
        "id": "Qsogh32OaPyD",
        "outputId": "88119b8a-f370-4ad1-ba9b-22b4da079d11"
      },
      "execution_count": 3,
      "outputs": [
        {
          "output_type": "stream",
          "name": "stdout",
          "text": [
            "spam[int(int('3'*2)//11)] = d\n"
          ]
        }
      ]
    },
    {
      "cell_type": "code",
      "source": [
        "#4. What is the value of spam[-1]?\n",
        "#Ans: 'd'\n",
        "spam=['a','b','c','d']\n",
        "print('spam[-1] = ',spam[-1])"
      ],
      "metadata": {
        "colab": {
          "base_uri": "https://localhost:8080/"
        },
        "id": "XOvrH5Ssa3r3",
        "outputId": "2094d99a-0f44-4f08-f2ed-1d4755a51ee5"
      },
      "execution_count": 4,
      "outputs": [
        {
          "output_type": "stream",
          "name": "stdout",
          "text": [
            "spam[-1] =  d\n"
          ]
        }
      ]
    },
    {
      "cell_type": "code",
      "source": [
        "#5. What is the value of spam[:2]?\n",
        "#Ans: 'a','b'\n",
        "print(spam)\n",
        "print(spam[:2])"
      ],
      "metadata": {
        "colab": {
          "base_uri": "https://localhost:8080/"
        },
        "id": "RJ0MOc4GbZhn",
        "outputId": "80232518-5513-4446-bc8e-1e358318b364"
      },
      "execution_count": 5,
      "outputs": [
        {
          "output_type": "stream",
          "name": "stdout",
          "text": [
            "['a', 'b', 'c', 'd']\n",
            "['a', 'b']\n"
          ]
        }
      ]
    },
    {
      "cell_type": "code",
      "source": [
        "#6. What is the value of bacon.index('cat')?\n",
        "#Ans: The value of bacon.index('cat') is 1\n",
        "bacon=[3.14,'cat',11,'cat',True]\n",
        "print(\"bacon.index('cat') =\",bacon.index('cat'))"
      ],
      "metadata": {
        "colab": {
          "base_uri": "https://localhost:8080/"
        },
        "id": "e06jfwBgb-wA",
        "outputId": "c67a6eb5-275a-4106-9a76-360250f56c31"
      },
      "execution_count": 6,
      "outputs": [
        {
          "output_type": "stream",
          "name": "stdout",
          "text": [
            "bacon.index('cat') = 1\n"
          ]
        }
      ]
    },
    {
      "cell_type": "code",
      "source": [
        "#7. How does bacon.append(99) change the look of the list value in bacon?\n",
        "#Ans: The append method adds new elements to the end of the list\n",
        "print(bacon)\n",
        "bacon.append('99') \n",
        "print(bacon)"
      ],
      "metadata": {
        "colab": {
          "base_uri": "https://localhost:8080/"
        },
        "id": "AAc2EttWc60f",
        "outputId": "d8925b8f-d29e-4526-d4d4-d7fd0dbcf9d9"
      },
      "execution_count": 7,
      "outputs": [
        {
          "output_type": "stream",
          "name": "stdout",
          "text": [
            "[3.14, 'cat', 11, 'cat', True]\n",
            "[3.14, 'cat', 11, 'cat', True, '99']\n"
          ]
        }
      ]
    },
    {
      "cell_type": "code",
      "source": [
        "#8. How does bacon.remove('cat') change the look of the list in bacon?\n",
        "#Ans: The remove method removes the first occurence of the element in the list\n",
        "print(bacon)\n",
        "bacon.remove('cat')\n",
        "print(bacon)"
      ],
      "metadata": {
        "colab": {
          "base_uri": "https://localhost:8080/"
        },
        "id": "kxfsapX6dVPv",
        "outputId": "97687265-c858-4b37-b2f2-81f4fb30dce9"
      },
      "execution_count": 8,
      "outputs": [
        {
          "output_type": "stream",
          "name": "stdout",
          "text": [
            "[3.14, 'cat', 11, 'cat', True, '99']\n",
            "[3.14, 11, 'cat', True, '99']\n"
          ]
        }
      ]
    },
    {
      "cell_type": "code",
      "source": [
        "#9.what are the list concatenation and list replication operations?\n",
        "#Ans: The operator for list concatenation is +, while the operator for replication is *.\n",
        "list_1 = ['ML','DL','AI','CV','NLP']\n",
        "list_2 = ['RNN','CNN','SVN']\n",
        "print(list_1 + list_2) # List Concatenation\n",
        "print(list_2*2) # List Replication"
      ],
      "metadata": {
        "colab": {
          "base_uri": "https://localhost:8080/"
        },
        "id": "yKNYfU5Ld4Bz",
        "outputId": "d164e080-12ca-413d-91d8-c87ee1188256"
      },
      "execution_count": 9,
      "outputs": [
        {
          "output_type": "stream",
          "name": "stdout",
          "text": [
            "['ML', 'DL', 'AI', 'CV', 'NLP', 'RNN', 'CNN', 'SVN']\n",
            "['RNN', 'CNN', 'SVN', 'RNN', 'CNN', 'SVN']\n"
          ]
        }
      ]
    },
    {
      "cell_type": "code",
      "source": [
        "#10.what is the difference between the list method append() and insert()?\n",
        "#Ans: While append() will add values only to the end of a list, insert() can add them anywhere in the list.\n",
        "list = [1,2,3,4,5]\n",
        "list.append(6)\n",
        "print(list)\n",
        "list.insert(2,'Demo')\n",
        "print(list)"
      ],
      "metadata": {
        "colab": {
          "base_uri": "https://localhost:8080/"
        },
        "id": "EBbPopLuePuT",
        "outputId": "c8c578d0-85da-4b44-a6a4-45acdd1a1194"
      },
      "execution_count": 10,
      "outputs": [
        {
          "output_type": "stream",
          "name": "stdout",
          "text": [
            "[1, 2, 3, 4, 5, 6]\n",
            "[1, 2, 'Demo', 3, 4, 5, 6]\n"
          ]
        }
      ]
    },
    {
      "cell_type": "code",
      "source": [
        "#11. What are the two methods for removing items from a list?\n",
        "#Ans: The del statement and the remove() method are two ways to remove values from a list"
      ],
      "metadata": {
        "id": "3GlamYO6ed8w"
      },
      "execution_count": 11,
      "outputs": []
    },
    {
      "cell_type": "code",
      "source": [
        "#12. Describe how list values and string values are identical.\n",
        "#Ans: Both lists and strings can be passed to len() function, have indexes and slices, be used in for loops, be concatenated or replicated, and be used with the in and not in operators."
      ],
      "metadata": {
        "id": "DGwr31FwerDe"
      },
      "execution_count": 12,
      "outputs": []
    },
    {
      "cell_type": "code",
      "source": [
        "#13. What's the difference between tuples and lists?\n",
        "#Ans: Lists are Mutable, Indexable and Slicable. they can have values added, removed, or changed. Tuples are Immutable but Indexable and Slicable. the tuple values cannot be changed at all. Also, tuples are represented using parentheses, (), while lists use the square brackets, []."
      ],
      "metadata": {
        "id": "n-aXMRete3w-"
      },
      "execution_count": 13,
      "outputs": []
    },
    {
      "cell_type": "code",
      "source": [
        "#14. How do you type a tuple value that only contains the integer 42?\n",
        "#Ans:(42,) (The trailing comma is mandatory. otherwise its considered as a int by python Interpreter)\n",
        "\n",
        "tup1=(42)\n",
        "tup2=(42,)\n",
        "print(type(tup1))\n",
        "print(type(tup2))"
      ],
      "metadata": {
        "colab": {
          "base_uri": "https://localhost:8080/"
        },
        "id": "F__fDn8ufC13",
        "outputId": "059c8c48-11cd-4161-deed-a0ea5e391066"
      },
      "execution_count": 15,
      "outputs": [
        {
          "output_type": "stream",
          "name": "stdout",
          "text": [
            "<class 'int'>\n",
            "<class 'tuple'>\n"
          ]
        }
      ]
    },
    {
      "cell_type": "code",
      "source": [
        "#15. How do you get a list value's tuple form? How do you get a tuple value's list form?\n",
        "#Ans: The tuple() and list() functions, respectively are used to convert a list to tuple and vice versa"
      ],
      "metadata": {
        "id": "ba0oXOMIfRO_"
      },
      "execution_count": 16,
      "outputs": []
    },
    {
      "cell_type": "code",
      "source": [
        "#16. Variables that \"contain\" list values are not necessarily lists themselves. Instead, what do they contain?\n",
        "#Ans: They contain references to list values."
      ],
      "metadata": {
        "id": "fPZuk49Yfh4a"
      },
      "execution_count": 17,
      "outputs": []
    },
    {
      "cell_type": "code",
      "source": [
        "#17. How do you distinguish between copy.copy() and copy.deepcopy()?\n",
        "#Ans: The copy.copy() function will do a shallow copy of a list, while the copy.deepcopy() function will do a deep copy of a list. That is, only copy.deepcopy() will duplicate any lists inside the list."
      ],
      "metadata": {
        "id": "EnH4Kp3ffq5E"
      },
      "execution_count": 18,
      "outputs": []
    },
    {
      "cell_type": "code",
      "source": [],
      "metadata": {
        "id": "MjWIJXQKf0Kr"
      },
      "execution_count": null,
      "outputs": []
    }
  ]
}