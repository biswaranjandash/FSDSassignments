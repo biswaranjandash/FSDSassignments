{
  "nbformat": 4,
  "nbformat_minor": 0,
  "metadata": {
    "colab": {
      "provenance": [],
      "authorship_tag": "ABX9TyOVlbluKs82hmHeNXk8f2T+",
      "include_colab_link": true
    },
    "kernelspec": {
      "name": "python3",
      "display_name": "Python 3"
    },
    "language_info": {
      "name": "python"
    }
  },
  "cells": [
    {
      "cell_type": "markdown",
      "metadata": {
        "id": "view-in-github",
        "colab_type": "text"
      },
      "source": [
        "<a href=\"https://colab.research.google.com/github/biswaranjandash/FSDSassignments/blob/main/Assignment_16.ipynb\" target=\"_parent\"><img src=\"https://colab.research.google.com/assets/colab-badge.svg\" alt=\"Open In Colab\"/></a>"
      ]
    },
    {
      "cell_type": "code",
      "execution_count": 1,
      "metadata": {
        "colab": {
          "base_uri": "https://localhost:8080/"
        },
        "id": "72dEombxnxsl",
        "outputId": "26c60329-b4f0-4eb3-ab1f-1211d01b0b99"
      },
      "outputs": [
        {
          "output_type": "stream",
          "name": "stdout",
          "text": [
            "[2001, 2002, 2003, 2004, 2005, 2006]\n"
          ]
        }
      ],
      "source": [
        "#1. Create a list called years_list, starting with the year of your birth, and each year thereafter until the year of your fifth birthday. For example, if you were born in 1980. the list would be years_list = [1980, 1981, 1982, 1983, 1984, 1985].\n",
        "years_list = [ele for ele in range(2001,2001+6)]\n",
        "print(years_list)"
      ]
    },
    {
      "cell_type": "code",
      "source": [
        "#2. In which year in years_list was your third birthday? Remember, you were 0 years of age for your first year.\n",
        "print(years_list[3])"
      ],
      "metadata": {
        "colab": {
          "base_uri": "https://localhost:8080/"
        },
        "id": "zeK6GfOioQ5h",
        "outputId": "c092242b-edef-4f7a-be9d-33f63939132b"
      },
      "execution_count": 2,
      "outputs": [
        {
          "output_type": "stream",
          "name": "stdout",
          "text": [
            "2004\n"
          ]
        }
      ]
    },
    {
      "cell_type": "code",
      "source": [
        "#3.In the years list, which year were you the oldest?\n",
        "print(years_list[-1])"
      ],
      "metadata": {
        "colab": {
          "base_uri": "https://localhost:8080/"
        },
        "id": "yxu0VzgOoYYP",
        "outputId": "a3a4cdac-e4fb-477d-979f-8418d7d82ead"
      },
      "execution_count": 3,
      "outputs": [
        {
          "output_type": "stream",
          "name": "stdout",
          "text": [
            "2006\n"
          ]
        }
      ]
    },
    {
      "cell_type": "code",
      "source": [
        "#4. Make a list called things with these three strings as elements: \"mozzarella\", \"cinderella\", \"salmonella\".\n",
        "things = [ele+'ella' for ele in ['mozzar','cinder','salmon']]\n",
        "print(things)"
      ],
      "metadata": {
        "colab": {
          "base_uri": "https://localhost:8080/"
        },
        "id": "ut7X4ZBEocps",
        "outputId": "51dd1ba1-922e-4b71-e9ca-e2c4b7162e21"
      },
      "execution_count": 4,
      "outputs": [
        {
          "output_type": "stream",
          "name": "stdout",
          "text": [
            "['mozzarella', 'cinderella', 'salmonella']\n"
          ]
        }
      ]
    },
    {
      "cell_type": "code",
      "source": [
        "#5. Capitalize the element in things that refers to a person and then print the list. Did it change the element in the list?\n",
        "for ele in range(len(things)):\n",
        "    if things[ele] == 'cinderella':\n",
        "        things[ele] = things[ele].capitalize()\n",
        "print(things)"
      ],
      "metadata": {
        "colab": {
          "base_uri": "https://localhost:8080/"
        },
        "id": "ZBzJ9wqkpGHx",
        "outputId": "add8f60c-1598-402a-db27-e038357bdd35"
      },
      "execution_count": 5,
      "outputs": [
        {
          "output_type": "stream",
          "name": "stdout",
          "text": [
            "['mozzarella', 'Cinderella', 'salmonella']\n"
          ]
        }
      ]
    },
    {
      "cell_type": "code",
      "source": [
        "#6. Make a surprise list with the elements \"Groucho,\" \"Chico,\" and \"Harpo.\"\n",
        "suprise_list = ['Groucho','Chico','Harpo']\n",
        "print(suprise_list)"
      ],
      "metadata": {
        "colab": {
          "base_uri": "https://localhost:8080/"
        },
        "id": "dFelFsbWpMBi",
        "outputId": "3dcdb23c-3cbf-414c-9afe-ea0acc15e26c"
      },
      "execution_count": 6,
      "outputs": [
        {
          "output_type": "stream",
          "name": "stdout",
          "text": [
            "['Groucho', 'Chico', 'Harpo']\n"
          ]
        }
      ]
    },
    {
      "cell_type": "code",
      "source": [
        "#7. Lowercase the last element of the surprise list, reverse it, and then capitalize it.\n",
        "print(suprise_list[-1].lower()[::-1].capitalize())"
      ],
      "metadata": {
        "colab": {
          "base_uri": "https://localhost:8080/"
        },
        "id": "kzLmhjLap-Ay",
        "outputId": "1cdcf2a3-f8b9-42cd-fdad-820ff46807ad"
      },
      "execution_count": 7,
      "outputs": [
        {
          "output_type": "stream",
          "name": "stdout",
          "text": [
            "Oprah\n"
          ]
        }
      ]
    },
    {
      "cell_type": "code",
      "source": [
        "#8. Make an English-to-French dictionary called e2f and print it. Here are your starter words: dog is chien, cat is chat, and walrus is morse.\n",
        "e2f = {'dog':'chien','cat':'chat','walrus':'morse'}\n",
        "print(e2f)"
      ],
      "metadata": {
        "colab": {
          "base_uri": "https://localhost:8080/"
        },
        "id": "O50VWdCCqBih",
        "outputId": "92b5ee64-31da-45ad-a9cf-c23847f9979c"
      },
      "execution_count": 8,
      "outputs": [
        {
          "output_type": "stream",
          "name": "stdout",
          "text": [
            "{'dog': 'chien', 'cat': 'chat', 'walrus': 'morse'}\n"
          ]
        }
      ]
    },
    {
      "cell_type": "code",
      "source": [
        "#9. Write the French word for walrus in your three-word dictionary e2f.\n",
        "print(e2f.get('walrus'))"
      ],
      "metadata": {
        "colab": {
          "base_uri": "https://localhost:8080/"
        },
        "id": "FX4gISOYqLjc",
        "outputId": "9b91fe6b-2684-4043-ae45-b58ca498395d"
      },
      "execution_count": 9,
      "outputs": [
        {
          "output_type": "stream",
          "name": "stdout",
          "text": [
            "morse\n"
          ]
        }
      ]
    },
    {
      "cell_type": "code",
      "source": [
        "#10. Make a French-to-English dictionary called f2e from e2f. Use the items method.\n",
        "f2e = dict([ele[::-1] for ele in e2f.items()])\n",
        "print(f2e)"
      ],
      "metadata": {
        "colab": {
          "base_uri": "https://localhost:8080/"
        },
        "id": "EnGJhG-iqTjH",
        "outputId": "68a732de-97a4-45a4-ab05-2a4d7bde3fe5"
      },
      "execution_count": 10,
      "outputs": [
        {
          "output_type": "stream",
          "name": "stdout",
          "text": [
            "{'chien': 'dog', 'chat': 'cat', 'morse': 'walrus'}\n"
          ]
        }
      ]
    },
    {
      "cell_type": "code",
      "source": [
        "#11. Print the English version of the French word chien using f2e.\n",
        "print(f2e.get('chien'))"
      ],
      "metadata": {
        "colab": {
          "base_uri": "https://localhost:8080/"
        },
        "id": "QjAkR0lPqYy2",
        "outputId": "317feeff-a5b4-4eaf-b422-40aba3672ad8"
      },
      "execution_count": 11,
      "outputs": [
        {
          "output_type": "stream",
          "name": "stdout",
          "text": [
            "dog\n"
          ]
        }
      ]
    },
    {
      "cell_type": "code",
      "source": [
        "#12. Make and print a set of English words from the keys in e2f.\n",
        "print(list(e2f.keys()))"
      ],
      "metadata": {
        "colab": {
          "base_uri": "https://localhost:8080/"
        },
        "id": "UsfSeZjTqhfx",
        "outputId": "b9501240-be45-4275-8d75-89c249bacb58"
      },
      "execution_count": 12,
      "outputs": [
        {
          "output_type": "stream",
          "name": "stdout",
          "text": [
            "['dog', 'cat', 'walrus']\n"
          ]
        }
      ]
    },
    {
      "cell_type": "code",
      "source": [
        "#13. Make a multilevel dictionary called life. Use these strings for the topmost keys: 'animals', 'plants', and 'other'. Make the 'animals' key refer to another dictionary with the keys 'cats', 'octopi', and 'emus'. Make the 'cats' key refer to a list of strings with the values 'Henri', 'Grumpy', and 'Lucy'. Make all the other keys refer to empty dictionaries.\n",
        "life = {\n",
        "    'animals':{\n",
        "        'cats':['Henri','Grumpy','Lucy'],\n",
        "        'octopi':{},\n",
        "        'emus':{}\n",
        "    },\n",
        "    'plants':{},\n",
        "    'other':{}\n",
        "}\n",
        "print(life)"
      ],
      "metadata": {
        "colab": {
          "base_uri": "https://localhost:8080/"
        },
        "id": "ftEK-e-fqmCm",
        "outputId": "c732d387-27a9-48c0-9078-e6549190f897"
      },
      "execution_count": 13,
      "outputs": [
        {
          "output_type": "stream",
          "name": "stdout",
          "text": [
            "{'animals': {'cats': ['Henri', 'Grumpy', 'Lucy'], 'octopi': {}, 'emus': {}}, 'plants': {}, 'other': {}}\n"
          ]
        }
      ]
    },
    {
      "cell_type": "code",
      "source": [
        "#14. Print the top-level keys of life.\n",
        "print(list(life.keys()))"
      ],
      "metadata": {
        "colab": {
          "base_uri": "https://localhost:8080/"
        },
        "id": "QJ0ETxMXqqTq",
        "outputId": "9bc00020-83b3-4e2f-ec79-067888cdc32c"
      },
      "execution_count": 14,
      "outputs": [
        {
          "output_type": "stream",
          "name": "stdout",
          "text": [
            "['animals', 'plants', 'other']\n"
          ]
        }
      ]
    },
    {
      "cell_type": "code",
      "source": [
        "#15. Print the keys for life['animals'].\n",
        "print(list(life['animals'].keys()))"
      ],
      "metadata": {
        "colab": {
          "base_uri": "https://localhost:8080/"
        },
        "id": "1TdaUb9CqvUk",
        "outputId": "2f20c558-e9d8-4dbf-9bfd-318629224a1a"
      },
      "execution_count": 15,
      "outputs": [
        {
          "output_type": "stream",
          "name": "stdout",
          "text": [
            "['cats', 'octopi', 'emus']\n"
          ]
        }
      ]
    },
    {
      "cell_type": "code",
      "source": [
        "#16. Print the values for life['animals']['cats']\n",
        "print(life['animals']['cats'])"
      ],
      "metadata": {
        "colab": {
          "base_uri": "https://localhost:8080/"
        },
        "id": "LojLv4WVq3TT",
        "outputId": "f5865281-e0e7-4e36-c794-c55cb071ea62"
      },
      "execution_count": 16,
      "outputs": [
        {
          "output_type": "stream",
          "name": "stdout",
          "text": [
            "['Henri', 'Grumpy', 'Lucy']\n"
          ]
        }
      ]
    },
    {
      "cell_type": "code",
      "source": [],
      "metadata": {
        "id": "oo89DQvYq66A"
      },
      "execution_count": null,
      "outputs": []
    }
  ]
}