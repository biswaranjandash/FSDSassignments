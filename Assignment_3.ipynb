{
  "nbformat": 4,
  "nbformat_minor": 0,
  "metadata": {
    "colab": {
      "provenance": [],
      "authorship_tag": "ABX9TyMjkEwrkfGet+72cnmGzLqT",
      "include_colab_link": true
    },
    "kernelspec": {
      "name": "python3",
      "display_name": "Python 3"
    },
    "language_info": {
      "name": "python"
    }
  },
  "cells": [
    {
      "cell_type": "markdown",
      "metadata": {
        "id": "view-in-github",
        "colab_type": "text"
      },
      "source": [
        "<a href=\"https://colab.research.google.com/github/biswaranjandash/FSDSassignments/blob/main/Assignment_3.ipynb\" target=\"_parent\"><img src=\"https://colab.research.google.com/assets/colab-badge.svg\" alt=\"Open In Colab\"/></a>"
      ]
    },
    {
      "cell_type": "code",
      "source": [
        "#1. Why are functions advantageous to have in your programs?\n",
        "#Ans: Functions reduce the need for duplicate code. This makes programs shorter, easier to read, and easier to update. The main advantage of functions is code Reusability."
      ],
      "metadata": {
        "id": "NpnZr-3Tr_nq"
      },
      "execution_count": null,
      "outputs": []
    },
    {
      "cell_type": "code",
      "source": [
        "#2. When does the code in a function run: when it's specified or when it's called?\n",
        "#Ans: The code in a function executes when the function is called, not when the function is specified."
      ],
      "metadata": {
        "id": "6--T7ay4sHjG"
      },
      "execution_count": 3,
      "outputs": []
    },
    {
      "cell_type": "code",
      "source": [
        "#3. What statement creates a function?\n",
        "#Ans: The def statement defines a function\n",
        "#Syntax of Function:\n",
        "# def function_name(parameters): \"\"\"doc string\"\"\" -----function body----- -----function body----- return value"
      ],
      "metadata": {
        "id": "BzTJqgDtsic-"
      },
      "execution_count": 4,
      "outputs": []
    },
    {
      "cell_type": "code",
      "source": [
        "#4. What is the difference between a function and a function call?\n",
        "#Ans: A function is procedure to achieve a particular result. while function call is using this function to achive that task. Using a function to do a particular task any point in program is called as function call."
      ],
      "metadata": {
        "id": "nXUvMLeYs1y7"
      },
      "execution_count": 5,
      "outputs": []
    },
    {
      "cell_type": "code",
      "source": [
        "#5. How many global scopes are there in a Python program? How many local scopes?\n",
        "#Ans: There is one global scope, and a local scope is created whenever a function is called."
      ],
      "metadata": {
        "id": "CCCNG-z9tK5o"
      },
      "execution_count": 6,
      "outputs": []
    },
    {
      "cell_type": "code",
      "source": [
        "#6. What happens to variables in a local scope when the function call returns?\n",
        "#Ans: When a function returns, the local scope is destroyed, and all the variables in it are forgotten."
      ],
      "metadata": {
        "id": "gqfY6hemtsB_"
      },
      "execution_count": 7,
      "outputs": []
    },
    {
      "cell_type": "code",
      "source": [
        "#7. What is the concept of a return value? Is it possible to have a return value in an expression?\n",
        "#Ans: A return value is the value that a function call evaluates to. Like any value, a return value can be used as part of an expression."
      ],
      "metadata": {
        "id": "Kii3VdTTuE6o"
      },
      "execution_count": 8,
      "outputs": []
    },
    {
      "cell_type": "code",
      "source": [
        "#8. If a function does not have a return statement, what is the return value of a call to that function?\n",
        "#Ans: If there is no return statement for a function, its return value is None."
      ],
      "metadata": {
        "id": "zENGqhN3uxTq"
      },
      "execution_count": 9,
      "outputs": []
    },
    {
      "cell_type": "code",
      "source": [
        "#9. How do you make a function variable refer to the global variable?\n",
        "#Ans: A global statement will force a variable in a function to refer to the global variable. If you want to refer to a global variable in a function, you can use the global keyword to declare which variables are global."
      ],
      "metadata": {
        "id": "0wq96dkIu-uo"
      },
      "execution_count": 10,
      "outputs": []
    },
    {
      "cell_type": "code",
      "source": [
        "#10. What is the data type of None?\n",
        "#Ans: The data type of None is NoneType."
      ],
      "metadata": {
        "id": "EDwo_5YOvWgW"
      },
      "execution_count": 11,
      "outputs": []
    },
    {
      "cell_type": "code",
      "source": [
        "#11. What does the sentence import areallyourpetsnamederic do?\n",
        "#Ans: That import statement imports a module named areallyourpetsnamederic."
      ],
      "metadata": {
        "id": "UrexfSyyvcm0"
      },
      "execution_count": 12,
      "outputs": []
    },
    {
      "cell_type": "code",
      "source": [
        "#12. If you had a bacon() feature in a spam module, what would you call it after importing spam?\n",
        "#Ans: This function can be called with spam.bacon().\n"
      ],
      "metadata": {
        "id": "6u-CLBppvuTQ"
      },
      "execution_count": 13,
      "outputs": []
    },
    {
      "cell_type": "code",
      "source": [
        "#13. What can you do to save a programme from crashing if it encounters an error?\n",
        "#Ans: Place the line of code that might cause an error in a try clause and use except block to handle the error."
      ],
      "metadata": {
        "id": "ReTWCCGpv9GU"
      },
      "execution_count": 14,
      "outputs": []
    },
    {
      "cell_type": "code",
      "source": [
        "#14. What is the purpose of the try clause? What is the purpose of the except clause?\n",
        "#ANS:The code that could potentially cause an error goes in the try clause. The code that executes if an error happens goes in the except clause."
      ],
      "metadata": {
        "id": "kZ0uj9jiwUhF"
      },
      "execution_count": null,
      "outputs": []
    }
  ]
}