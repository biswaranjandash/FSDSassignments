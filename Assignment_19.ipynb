{
  "nbformat": 4,
  "nbformat_minor": 0,
  "metadata": {
    "colab": {
      "provenance": [],
      "authorship_tag": "ABX9TyPnznrVjz7eDldmsBKrIsgX",
      "include_colab_link": true
    },
    "kernelspec": {
      "name": "python3",
      "display_name": "Python 3"
    },
    "language_info": {
      "name": "python"
    }
  },
  "cells": [
    {
      "cell_type": "markdown",
      "metadata": {
        "id": "view-in-github",
        "colab_type": "text"
      },
      "source": [
        "<a href=\"https://colab.research.google.com/github/biswaranjandash/FSDSassignments/blob/main/Assignment_19.ipynb\" target=\"_parent\"><img src=\"https://colab.research.google.com/assets/colab-badge.svg\" alt=\"Open In Colab\"/></a>"
      ]
    },
    {
      "cell_type": "code",
      "execution_count": 1,
      "metadata": {
        "colab": {
          "base_uri": "https://localhost:8080/"
        },
        "id": "HLuvKDehp0eI",
        "outputId": "0df7e69f-e719-456c-f413-65598a7df6a1"
      },
      "outputs": [
        {
          "output_type": "stream",
          "name": "stdout",
          "text": [
            "<class '__main__.Thing'>\n",
            "<__main__.Thing object at 0x7fd226576950>\n"
          ]
        }
      ],
      "source": [
        "#1. Make a class called Thing with no contents and print it. Then, create an object called example from this class and also print it. Are the printed values the same or different?\n",
        "class Thing:\n",
        "    pass\n",
        "\n",
        "print(Thing)\n",
        "\n",
        "example = Thing()\n",
        "print(example)"
      ]
    },
    {
      "cell_type": "code",
      "source": [
        "#2. Create a new class called Thing2 and add the value 'abc' to the letters class attribute. Letters should be printed.\n",
        "class Thing2:\n",
        "    letters = 'abc'\n",
        "    \n",
        "print(Thing2.letters)"
      ],
      "metadata": {
        "colab": {
          "base_uri": "https://localhost:8080/"
        },
        "id": "YNrpfaDGqE_l",
        "outputId": "d5ba4ae5-8f22-47c7-d78f-9c2ca0432bca"
      },
      "execution_count": 2,
      "outputs": [
        {
          "output_type": "stream",
          "name": "stdout",
          "text": [
            "abc\n"
          ]
        }
      ]
    },
    {
      "cell_type": "code",
      "source": [
        "#3. Make yet another class called, of course, Thing3. This time, assign the value 'xyz' to an instance (object) attribute called letters. Print letters. Do you need to make an object from the class to do this?\n",
        "class Thing3:    \n",
        "    def __init__(self):\n",
        "        self.letters = 'xyz'\n",
        "        \n",
        "try:        \n",
        "    print(Thing3.letters) # Will raise a syntax Error\n",
        "except:\n",
        "    my_thing = Thing3()\n",
        "    print(my_thing.letters)"
      ],
      "metadata": {
        "colab": {
          "base_uri": "https://localhost:8080/"
        },
        "id": "t7VVm2ieqKju",
        "outputId": "b8e3cda7-7e79-4c79-e34e-f692417dea6f"
      },
      "execution_count": 3,
      "outputs": [
        {
          "output_type": "stream",
          "name": "stdout",
          "text": [
            "xyz\n"
          ]
        }
      ]
    },
    {
      "cell_type": "code",
      "source": [
        "#4. Create an Element class with the instance attributes name, symbol, and number. Create a class object with the values 'Hydrogen,' 'H,' and 1.\n",
        "class Element:   \n",
        "    def __init__(self, name, symbol, number):\n",
        "        self.name = name\n",
        "        self.symbol = symbol\n",
        "        self.number = number\n",
        "\n",
        "my_elements = Element('Hydrogen','H',1)"
      ],
      "metadata": {
        "id": "q8ggbaz3qPHD"
      },
      "execution_count": 4,
      "outputs": []
    },
    {
      "cell_type": "code",
      "source": [
        "#5. Make a dictionary with these keys and values: 'name': 'Hydrogen', 'symbol': 'H', 'number': 1. Then, create an object called hydrogen from class Element using this dictionary.\n",
        "custom_dict = {'name':'Hydrogen','symbol':'H','number':1}\n",
        "print(custom_dict)\n",
        "\n",
        "# Method 1\n",
        "hydrogen = Element(*custom_dict.values())\n",
        "print('Using Method #1 ->',hydrogen.name,hydrogen.symbol,hydrogen.number, sep='\\t')\n",
        "\n",
        "# Method 2\n",
        "hydrogen = Element(**custom_dict)\n",
        "print('Using Method #2 ->',hydrogen.name,hydrogen.symbol,hydrogen.number, sep='\\t')"
      ],
      "metadata": {
        "colab": {
          "base_uri": "https://localhost:8080/"
        },
        "id": "uK1G9lACqSI0",
        "outputId": "8aec9ac3-75ed-4630-b6bc-29d1c66ef05f"
      },
      "execution_count": 5,
      "outputs": [
        {
          "output_type": "stream",
          "name": "stdout",
          "text": [
            "{'name': 'Hydrogen', 'symbol': 'H', 'number': 1}\n",
            "Using Method #1 ->\tHydrogen\tH\t1\n",
            "Using Method #2 ->\tHydrogen\tH\t1\n"
          ]
        }
      ]
    },
    {
      "cell_type": "code",
      "source": [
        "#6. For the Element class, define a method called dump() that prints the values of the object’s attributes (name, symbol, and number). Create the hydrogen object from this new definition and use dump() to print its attributes.\n",
        "class Element:\n",
        "    def __init__(self, name, symbol, number):\n",
        "        self.name = name\n",
        "        self.symbol = symbol\n",
        "        self.number = number      \n",
        "    def dump(self):\n",
        "        print(self.name, self.symbol, self.number)\n",
        "        \n",
        "hydrogen = Element('Hydrogen','H',1)\n",
        "hydrogen.dump()"
      ],
      "metadata": {
        "colab": {
          "base_uri": "https://localhost:8080/"
        },
        "id": "AYsNbKdOqWXs",
        "outputId": "60ee57e9-e531-49ae-ed86-8454720fb633"
      },
      "execution_count": 6,
      "outputs": [
        {
          "output_type": "stream",
          "name": "stdout",
          "text": [
            "Hydrogen H 1\n"
          ]
        }
      ]
    },
    {
      "cell_type": "code",
      "source": [
        "#7. Call print(hydrogen). In the definition of Element, change the name of method dump to __str__, create a new hydrogen object, and call print(hydrogen) again.\n",
        "print(hydrogen)\n",
        "\n",
        "class Element:\n",
        "    def __init__(self, name, symbol, number):\n",
        "        self.name = name\n",
        "        self.symbol = symbol\n",
        "        self.number = number      \n",
        "    def __str__(self):\n",
        "        return f'{self.name} {self.symbol} {self.number}'\n",
        "        \n",
        "Hydrogen = Element('Hydrogen','H',1)\n",
        "print(Hydrogen)"
      ],
      "metadata": {
        "colab": {
          "base_uri": "https://localhost:8080/"
        },
        "id": "cDvAG-V9qZL5",
        "outputId": "5c7ad032-ad50-4ed3-f86a-0e0bd2aefd0a"
      },
      "execution_count": 7,
      "outputs": [
        {
          "output_type": "stream",
          "name": "stdout",
          "text": [
            "<__main__.Element object at 0x7fd2265769b0>\n",
            "Hydrogen H 1\n"
          ]
        }
      ]
    },
    {
      "cell_type": "code",
      "source": [
        "#8. Modify Element to make the attributes name, symbol, and number private. Define a getter property for each to return its value.\n",
        "class Element:\n",
        "    def __init__(self,name,symbol,number):\n",
        "        self.__name = name\n",
        "        self.__symbol = symbol\n",
        "        self.__number = number\n",
        "    \n",
        "    @property\n",
        "    def get_name(self):\n",
        "        return self.__name\n",
        "    \n",
        "    @property\n",
        "    def get_symbol(self):\n",
        "        return self.__symbol\n",
        "    \n",
        "    @property\n",
        "    def get_number(self):\n",
        "        return self.__number\n",
        "    \n",
        "hydrogen = Element('Hydrogen','H',1)\n",
        "print(hydrogen.get_name)\n",
        "print(hydrogen.get_symbol)\n",
        "print(hydrogen.get_number)"
      ],
      "metadata": {
        "colab": {
          "base_uri": "https://localhost:8080/"
        },
        "id": "4Y8S6tliqevt",
        "outputId": "1e1847cd-aece-4fdd-9110-37ff2e023285"
      },
      "execution_count": 8,
      "outputs": [
        {
          "output_type": "stream",
          "name": "stdout",
          "text": [
            "Hydrogen\n",
            "H\n",
            "1\n"
          ]
        }
      ]
    },
    {
      "cell_type": "code",
      "source": [
        "#9. Define three classes: Bear, Rabbit, and Octothorpe. For each, define only one method: eats(). This should return 'berries' (Bear), 'clover' (Rabbit), or 'campers' (Octothorpe). Create one object from each and print what it eats.\n",
        "class Bear:\n",
        "    def eats(self):\n",
        "        print('berries')\n",
        "class Rabbit:\n",
        "    def eats(self):\n",
        "        print('clover')\n",
        "class Octothorpe:\n",
        "    def eats(self):\n",
        "        print('campers')\n",
        "        \n",
        "bear = Bear()\n",
        "rabbit = Rabbit()\n",
        "octothrope = Octothorpe()\n",
        "\n",
        "bear.eats()\n",
        "rabbit.eats()\n",
        "octothrope.eats()"
      ],
      "metadata": {
        "colab": {
          "base_uri": "https://localhost:8080/"
        },
        "id": "2OaNBbZoqlu6",
        "outputId": "c2d0b3c5-f162-4da5-84c9-af82c21d4ecf"
      },
      "execution_count": 9,
      "outputs": [
        {
          "output_type": "stream",
          "name": "stdout",
          "text": [
            "berries\n",
            "clover\n",
            "campers\n"
          ]
        }
      ]
    },
    {
      "cell_type": "code",
      "source": [
        "#10. Define these classes: Laser, Claw, and SmartPhone. Each has only one method: does(). This returns 'disintegrate' (Laser), 'crush' (Claw), or 'ring' (SmartPhone). Then, define the class Robot that has one instance (object) of each of these. Define a does() method for the Robot that prints what its component objects do.\n",
        "class Laser:\n",
        "    def does(self):\n",
        "        return 'disintegrate'\n",
        "class Claw:\n",
        "    def does(self):\n",
        "        return 'crush'\n",
        "class Smartphone:\n",
        "    def does(self):\n",
        "        return 'ring'\n",
        "class Robot:\n",
        "    def __init__(self):\n",
        "        self.laser = Laser()\n",
        "        self.claw = Claw()\n",
        "        self.smartphone = Smartphone()\n",
        "    def does(self):\n",
        "        print(self.laser.does(),self.claw.does(),self.smartphone.does())\n",
        "        \n",
        "r2d2 = Robot()\n",
        "r2d2.does()"
      ],
      "metadata": {
        "colab": {
          "base_uri": "https://localhost:8080/"
        },
        "id": "t3ny5SO_qq7L",
        "outputId": "11479320-8778-4428-e656-844d58e970d0"
      },
      "execution_count": 10,
      "outputs": [
        {
          "output_type": "stream",
          "name": "stdout",
          "text": [
            "disintegrate crush ring\n"
          ]
        }
      ]
    },
    {
      "cell_type": "code",
      "source": [],
      "metadata": {
        "id": "lzuI2qFOqvEo"
      },
      "execution_count": null,
      "outputs": []
    }
  ]
}