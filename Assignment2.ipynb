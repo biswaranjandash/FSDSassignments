{
  "nbformat": 4,
  "nbformat_minor": 0,
  "metadata": {
    "colab": {
      "name": "Assignment2.ipynb",
      "provenance": [],
      "collapsed_sections": [],
      "authorship_tag": "ABX9TyOXgeqOHkbrdK24M8lnjSXw",
      "include_colab_link": true
    },
    "kernelspec": {
      "name": "python3",
      "display_name": "Python 3"
    },
    "language_info": {
      "name": "python"
    }
  },
  "cells": [
    {
      "cell_type": "markdown",
      "metadata": {
        "id": "view-in-github",
        "colab_type": "text"
      },
      "source": [
        "<a href=\"https://colab.research.google.com/github/biswaranjandash/FSDSassignments/blob/main/Assignment2.ipynb\" target=\"_parent\"><img src=\"https://colab.research.google.com/assets/colab-badge.svg\" alt=\"Open In Colab\"/></a>"
      ]
    },
    {
      "cell_type": "code",
      "execution_count": 1,
      "metadata": {
        "id": "KWgP6MDSH-ZF"
      },
      "outputs": [],
      "source": [
        "#1.What are the two values of the Boolean data type? How do you write them?\n",
        "#ANS - True and False are two values of the boolen data types. We have to use capital T and F and with the rest of the word in lowercase ."
      ]
    },
    {
      "cell_type": "code",
      "source": [
        "#2. What are the three different types of Boolean operators?\n",
        "# ANS -The three differnt types of Boolean operators in python are :- are,and,not.\n"
      ],
      "metadata": {
        "id": "tI_sklItKvmJ"
      },
      "execution_count": 2,
      "outputs": []
    },
    {
      "cell_type": "code",
      "source": [
        "#3. Make a list of each Boolean operator's truth tables (i.e. every possible combination of Boolean values for the operator and what it evaluate ).\n",
        "# ANS -The Truth tables for the boolean tables are as follows:\n",
        "# 1) Truth Table for and operaotor\n",
        "# True and True is True\n",
        "# True and False is False\n",
        "# False and True is False\n",
        "# False and False is False\n",
        " \n",
        "# 2) Truth Table for or operaotor\n",
        "# True or True is True\n",
        "# True or False is True\n",
        "# False or True is True\n",
        "# False or False is False\n",
        "\n",
        "# 3)Truth Table for not operaotor\n",
        "# True not is False False not is True"
      ],
      "metadata": {
        "id": "BjX6Z1Z4LY3A"
      },
      "execution_count": 4,
      "outputs": []
    },
    {
      "cell_type": "code",
      "source": [
        "#4. What are the values of the following expressions ?\n",
        "#.(5 > 4) and (3 == 5)\n",
        "#.not (5 > 4)\n",
        "#.(5 > 4) or (3 == 5)\n",
        "#.not ((5 > 4) or (3 == 5))\n",
        "#.(True and True) and (True == False)\n",
        "#.(not False) or (not True)\n",
        "# ANS - \n",
        "#What are the values of the following expressions ?\n",
        "print(5 > 4) and (3 == 5)\n",
        "print(not (5 > 4))\n",
        "print(5 > 4) or (3 == 5)\n",
        "print(not ((5 > 4) or (3 == 5)))\n",
        "print(True and True) and (True == False)\n",
        "print(not False) or (not True)"
      ],
      "metadata": {
        "colab": {
          "base_uri": "https://localhost:8080/"
        },
        "id": "b3zF9RFhMH7H",
        "outputId": "f41bd10a-727c-42b2-d278-2cc5943680c7"
      },
      "execution_count": 7,
      "outputs": [
        {
          "output_type": "stream",
          "name": "stdout",
          "text": [
            "True\n",
            "False\n",
            "True\n",
            "False\n",
            "True\n",
            "True\n"
          ]
        },
        {
          "output_type": "execute_result",
          "data": {
            "text/plain": [
              "False"
            ]
          },
          "metadata": {},
          "execution_count": 7
        }
      ]
    },
    {
      "cell_type": "code",
      "source": [
        "#5.What are the six comparison operators?\n",
        "# ANS - The Six comparision operators available in python are:\n",
        "# == , != , < , > , <= , =>"
      ],
      "metadata": {
        "id": "NyD9A3XPNlhE"
      },
      "execution_count": 8,
      "outputs": []
    },
    {
      "cell_type": "code",
      "source": [
        "#6. How do you tell the difference between the equal to and assignment operators?Describe a condition and when you would use one ?\n",
        "# ANS - == is the equal to operator that compares two values and evaluates to a Boolean, while = is that assignment operator that stores a value in a variable"
      ],
      "metadata": {
        "id": "Vu1OZ_b3OI_H"
      },
      "execution_count": 9,
      "outputs": []
    },
    {
      "cell_type": "code",
      "source": [
        "#7. Identify the three blocks in this code:\n",
        "# ANS - In Python, code block refers to a collection of code that is in the same block or indent. This is most commonly found in classes, functions, and loops.\n",
        "spam = 0\n",
        "if spam == 10:\n",
        "  print('eggs') # block 1\n",
        "if spam > 5:\n",
        "  print('bacon') # block 2\n",
        "else:\n",
        "  print('ham') # block 3\n",
        "print('spam')\n",
        "print('spam')"
      ],
      "metadata": {
        "colab": {
          "base_uri": "https://localhost:8080/"
        },
        "id": "n2JfM0cCOqVa",
        "outputId": "5ba495f4-8863-4a25-8e80-7fb8ca98cb6a"
      },
      "execution_count": 11,
      "outputs": [
        {
          "output_type": "stream",
          "name": "stdout",
          "text": [
            "ham\n",
            "spam\n",
            "spam\n"
          ]
        }
      ]
    },
    {
      "cell_type": "code",
      "source": [
        "#8. Write code that prints Hello if 1 is stored in spam, prints Howdy if 2 is stored in spam, and prints Greetings! if anything else is stored in spam.\n",
        "# ANS - \n",
        "def spamCode(spam):\n",
        "  if spam==1:\n",
        "    print(\"Hello\")\n",
        "  elif spam==2:\n",
        "    print(\"Howdy\")\n",
        "  else :\n",
        "    print(\"Greeting\")\n",
        "\n",
        "spamCode(1)\n",
        "spamCode(2)\n",
        "spamCode(3)\n",
        "\n"
      ],
      "metadata": {
        "colab": {
          "base_uri": "https://localhost:8080/"
        },
        "id": "H7miKfi4O2q6",
        "outputId": "18252ab1-bd7e-40e8-8e29-4c36d90e4853"
      },
      "execution_count": 15,
      "outputs": [
        {
          "output_type": "stream",
          "name": "stdout",
          "text": [
            "Hello\n",
            "Howdy\n",
            "Greeting\n"
          ]
        }
      ]
    },
    {
      "cell_type": "code",
      "source": [
        "#9.If your programme is stuck in an endless loop, what keys you’ll press?\n",
        "# ANS - Press Ctrl-c to stop a program stuck in an infinite loop"
      ],
      "metadata": {
        "id": "xsDugV1_Qp96"
      },
      "execution_count": 19,
      "outputs": []
    },
    {
      "cell_type": "code",
      "source": [
        "#10. How can you tell the difference between break and continue?\n",
        "# ANS - The break statement will move the execution outside the loop if break condtion is satisfied. Whereas the continue statement will move the execution to the start of the loop."
      ],
      "metadata": {
        "id": "dUQ3xjGuRzYs"
      },
      "execution_count": 20,
      "outputs": []
    },
    {
      "cell_type": "code",
      "source": [
        "#11. In a for loop, what is the difference between range(10), range(0, 10), and range(0, 10, 1)?\n",
        "# ANS - The Differences are as follows:\n",
        "\n",
        "# 1)The range(10) call range from 0 to 9 (but not include 10)\n",
        "# 2)The range (0,10) explicitly tells the loop to start at 0\n",
        "# 3)The range(0,10,1) explicitly tells the loop to increase the variable by 1 on each iteration"
      ],
      "metadata": {
        "id": "eTc3KM_4SbXc"
      },
      "execution_count": 21,
      "outputs": []
    },
    {
      "cell_type": "code",
      "source": [
        "#12. Write a short program that prints the numbers 1 to 10 using a for loop. Then write an equivalent program that prints the numbers 1 to 10 using a while loop ?\n",
        "# ANS -\n",
        "for i in range(1,11):\n",
        "  print(i,end = \" \")"
      ],
      "metadata": {
        "colab": {
          "base_uri": "https://localhost:8080/"
        },
        "id": "A7B8mEsVS4bU",
        "outputId": "cbdaf4c7-c64d-4dc1-c6ba-58cb967a0a36"
      },
      "execution_count": 23,
      "outputs": [
        {
          "output_type": "stream",
          "name": "stdout",
          "text": [
            "1 2 3 4 5 6 7 8 9 10 "
          ]
        }
      ]
    },
    {
      "cell_type": "code",
      "source": [
        "i = 1\n",
        "while i<=10:\n",
        "  print(i,end=\" \")\n",
        "  i+=1"
      ],
      "metadata": {
        "colab": {
          "base_uri": "https://localhost:8080/"
        },
        "id": "9O8HVc2PThDy",
        "outputId": "bbb413fc-0f74-40c1-f8fa-55bac7d5daf2"
      },
      "execution_count": 24,
      "outputs": [
        {
          "output_type": "stream",
          "name": "stdout",
          "text": [
            "1 2 3 4 5 6 7 8 9 10 "
          ]
        }
      ]
    },
    {
      "cell_type": "code",
      "source": [
        "#13. If you had a function named bacon() inside a module named spam, how would you call it after importing spam ?\n",
        "# ANS - This function can be called with spam.bacon()"
      ],
      "metadata": {
        "id": "mvrEnmtmT_s3"
      },
      "execution_count": 25,
      "outputs": []
    },
    {
      "cell_type": "code",
      "source": [
        ""
      ],
      "metadata": {
        "id": "dZ3H9Os0UPwQ"
      },
      "execution_count": null,
      "outputs": []
    }
  ]
}