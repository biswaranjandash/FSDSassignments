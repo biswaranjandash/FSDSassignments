{
  "nbformat": 4,
  "nbformat_minor": 0,
  "metadata": {
    "colab": {
      "provenance": [],
      "authorship_tag": "ABX9TyOnH3W4RiBg4Ih4mDHWqy4o",
      "include_colab_link": true
    },
    "kernelspec": {
      "name": "python3",
      "display_name": "Python 3"
    },
    "language_info": {
      "name": "python"
    }
  },
  "cells": [
    {
      "cell_type": "markdown",
      "metadata": {
        "id": "view-in-github",
        "colab_type": "text"
      },
      "source": [
        "<a href=\"https://colab.research.google.com/github/biswaranjandash/FSDSassignments/blob/Python_Programming-Assignment/Programming_Assignment_22.ipynb\" target=\"_parent\"><img src=\"https://colab.research.google.com/assets/colab-badge.svg\" alt=\"Open In Colab\"/></a>"
      ]
    },
    {
      "cell_type": "code",
      "execution_count": 1,
      "metadata": {
        "colab": {
          "base_uri": "https://localhost:8080/"
        },
        "id": "zmkiEKhPnNNi",
        "outputId": "d2b0414a-ac7a-429d-d111-6ef8918ee953"
      },
      "outputs": [
        {
          "output_type": "stream",
          "name": "stdout",
          "text": [
            "Output: ➞ [3, 6, 9]\n",
            "Output: ➞ [8]\n",
            "Output: ➞ []\n"
          ]
        }
      ],
      "source": [
        "#1.Create a function that takes three parameters where:\n",
        "#x is the start of the range (inclusive).\n",
        "#y is the end of the range (inclusive).\n",
        "#n is the divisor to be checked against.\n",
        "\n",
        "#Return an ordered list with numbers in the range that are divisible by the third parameter n. Return an empty list if there are no numbers that are divisible by n. Examples:\n",
        "#list_operation(1, 10, 3) ➞ [3, 6, 9]\n",
        "#list_operation(7, 9, 2) ➞ [8]\n",
        "#list_operation(15, 20, 7) ➞ []\n",
        "\n",
        "def list_operation(start,end,divisor):\n",
        "    out_list = []\n",
        "    for ele in range(start,end+1):\n",
        "        if ele%divisor == 0:\n",
        "            out_list.append(ele)\n",
        "    print(f'Output: ➞ {out_list}')\n",
        "\n",
        "list_operation(1, 10, 3)\n",
        "list_operation(7, 9, 2)\n",
        "list_operation(15, 20, 7)"
      ]
    },
    {
      "cell_type": "code",
      "source": [
        "#2.Create a function that takes in two lists and returns True if the second list follows the first list by one element, and False otherwise. In other words, determine if the second list is the first list shifted to the right by 1.\n",
        "#Examples:\n",
        "#simon_says([1, 2], [5, 1]) ➞ True\n",
        "#simon_says([1, 2], [5, 5]) ➞ False\n",
        "#simon_says([1, 2, 3, 4, 5], [0, 1, 2, 3, 4]) ➞ True\n",
        "#simon_says([1, 2, 3, 4, 5], [5, 5, 1, 2, 3]) ➞ False\n",
        "\n",
        "#Notes:\n",
        "#1. Both input lists will be of the same length, and will have a minimum length of 2.\n",
        "#2. The values of the 0-indexed element in the second list and the n-1th indexed element in the first list do not matter.\n",
        "\n",
        "def simon_says(in_list_1,in_list_2):\n",
        "    if len(in_list_1) == len(in_list_1) and len(in_list_1) >=2 and len(in_list_1) >=2:\n",
        "        if(in_list_1[:-1] == in_list_2[1:]):\n",
        "            print(f'{in_list_1,in_list_2} ➞ {True}')\n",
        "        else:\n",
        "            print(f'{in_list_1,in_list_2} ➞ {False}')\n",
        "\n",
        "simon_says([1, 2], [5, 1])\n",
        "simon_says([1, 2], [5, 5])\n",
        "simon_says([1, 2, 3, 4, 5], [0, 1, 2, 3, 4])\n",
        "simon_says([1, 2, 3, 4, 5], [5, 5, 1, 2, 3])"
      ],
      "metadata": {
        "colab": {
          "base_uri": "https://localhost:8080/"
        },
        "id": "NIWiby89nZCb",
        "outputId": "b08450f3-1fe5-4ebc-cb5f-c5b7ddb7dfff"
      },
      "execution_count": 2,
      "outputs": [
        {
          "output_type": "stream",
          "name": "stdout",
          "text": [
            "([1, 2], [5, 1]) ➞ True\n",
            "([1, 2], [5, 5]) ➞ False\n",
            "([1, 2, 3, 4, 5], [0, 1, 2, 3, 4]) ➞ True\n",
            "([1, 2, 3, 4, 5], [5, 5, 1, 2, 3]) ➞ False\n"
          ]
        }
      ]
    },
    {
      "cell_type": "code",
      "source": [
        "#3.A group of friends have decided to start a secret society. The name will be the first letter of each of their names, sorted in a alphabetical order ? Create a function that takes in a list of names and returns the name of the secret society ?\n",
        "#Examples:\n",
        "#society_name([\"Adam\", \"Sarah\", \"Malcolm\"]) ➞ \"AMS\"\n",
        "#society_name([\"Harry\", \"Newt\", \"Luna\", \"Cho\"]) ➞ \"CHLN\"\n",
        "#society_name([\"Phoebe\", \"Chandler\", \"Rachel\", \"Ross\", \"Monica\", \"Joey\"])\n",
        "\n",
        "def society_name(in_list):\n",
        "    out_string = []\n",
        "    for ele in in_list:\n",
        "        out_string.append(ele[0])\n",
        "    output = ''.join(sorted(out_string))\n",
        "    print(f'{in_list} ➞ {output}')\n",
        "\n",
        "society_name([\"Adam\", \"Sarah\", \"Malcolm\"])\n",
        "society_name([\"Harry\", \"Newt\", \"Luna\", \"Cho\"])\n",
        "society_name([\"Phoebe\", \"Chandler\", \"Rachel\", \"Ross\", \"Monica\", \"Joey\"])"
      ],
      "metadata": {
        "colab": {
          "base_uri": "https://localhost:8080/"
        },
        "id": "y8WjYHBmnk8g",
        "outputId": "38bd9d25-2c37-4b7c-b3e9-36b3442fd34c"
      },
      "execution_count": 3,
      "outputs": [
        {
          "output_type": "stream",
          "name": "stdout",
          "text": [
            "['Adam', 'Sarah', 'Malcolm'] ➞ AMS\n",
            "['Harry', 'Newt', 'Luna', 'Cho'] ➞ CHLN\n",
            "['Phoebe', 'Chandler', 'Rachel', 'Ross', 'Monica', 'Joey'] ➞ CJMPRR\n"
          ]
        }
      ]
    },
    {
      "cell_type": "code",
      "source": [
        "#4.An isogram is a word that has no duplicate letters. Create a function that takes a string and returns either True or False depending on whether or not it's an \"isogram\".\n",
        "#Examples:\n",
        "#is_isogram(\"Algorism\") ➞ True\n",
        "#is_isogram(\"PasSword\") ➞ False\n",
        "# Not case sensitive.\n",
        "#is_isogram(\"Consecutive\") ➞ False\n",
        "\n",
        "#Notes:\n",
        "#Ignore letter case (should not be case sensitive).\n",
        "#All test cases contain valid one word strings.\n",
        "\n",
        "def is_isogram(in_string):\n",
        "    lower_in_string = in_string.lower()\n",
        "    if len(lower_in_string) == len(set(lower_in_string)):\n",
        "        print(f'{in_string} ➞ {True}')\n",
        "    else:\n",
        "        print(f'{in_string} ➞ {False}')\n",
        "\n",
        "is_isogram(\"Algorism\")\n",
        "is_isogram(\"PasSword\")\n",
        "is_isogram(\"Consecutive\")"
      ],
      "metadata": {
        "colab": {
          "base_uri": "https://localhost:8080/"
        },
        "id": "hRUct67Xns_T",
        "outputId": "5d3aa827-94de-4cdb-8dcf-f7599e207c53"
      },
      "execution_count": 4,
      "outputs": [
        {
          "output_type": "stream",
          "name": "stdout",
          "text": [
            "Algorism ➞ True\n",
            "PasSword ➞ False\n",
            "Consecutive ➞ False\n"
          ]
        }
      ]
    },
    {
      "cell_type": "code",
      "source": [
        "#5.Create a function that takes a string and returns True or False, depending on whether the characters are in order or not ?\n",
        "#Examples:\n",
        "#is_in_order(\"abc\") ➞ True\n",
        "#is_in_order(\"edabit\") ➞ False\n",
        "#is_in_order(\"123\") ➞ True\n",
        "#is_in_order(\"xyzz\") ➞ True\n",
        "\n",
        "#Notes:\n",
        "#You don't have to handle empty strings.\n",
        "\n",
        "def is_in_order(in_string):\n",
        "    in_string_sorted = ''.join(sorted(in_string))\n",
        "    if in_string == in_string_sorted:\n",
        "        print(f'{in_string} ➞ {True}')\n",
        "    else:\n",
        "       print(f'{in_string} ➞ {False}')\n",
        "\n",
        "is_in_order(\"abc\")\n",
        "is_in_order(\"edabit\")\n",
        "is_in_order(\"123\")\n",
        "is_in_order(\"xyzz\")"
      ],
      "metadata": {
        "colab": {
          "base_uri": "https://localhost:8080/"
        },
        "id": "7UPh0kDmn2wo",
        "outputId": "a026c8bb-37b9-4ab9-fe53-6e7f9289e32d"
      },
      "execution_count": 5,
      "outputs": [
        {
          "output_type": "stream",
          "name": "stdout",
          "text": [
            "abc ➞ True\n",
            "edabit ➞ False\n",
            "123 ➞ True\n",
            "xyzz ➞ True\n"
          ]
        }
      ]
    },
    {
      "cell_type": "code",
      "source": [],
      "metadata": {
        "id": "jLFI3hcsoACl"
      },
      "execution_count": null,
      "outputs": []
    }
  ]
}