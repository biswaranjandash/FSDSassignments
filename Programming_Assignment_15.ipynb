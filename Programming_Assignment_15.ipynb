{
  "nbformat": 4,
  "nbformat_minor": 0,
  "metadata": {
    "colab": {
      "provenance": [],
      "authorship_tag": "ABX9TyOpBJv09jR6JYeOjz4spn0P",
      "include_colab_link": true
    },
    "kernelspec": {
      "name": "python3",
      "display_name": "Python 3"
    },
    "language_info": {
      "name": "python"
    }
  },
  "cells": [
    {
      "cell_type": "markdown",
      "metadata": {
        "id": "view-in-github",
        "colab_type": "text"
      },
      "source": [
        "<a href=\"https://colab.research.google.com/github/biswaranjandash/FSDSassignments/blob/Python_Programming-Assignment/Programming_Assignment_15.ipynb\" target=\"_parent\"><img src=\"https://colab.research.google.com/assets/colab-badge.svg\" alt=\"Open In Colab\"/></a>"
      ]
    },
    {
      "cell_type": "code",
      "execution_count": 1,
      "metadata": {
        "colab": {
          "base_uri": "https://localhost:8080/"
        },
        "id": "ubQeeGthfBPg",
        "outputId": "39d9b995-6c2e-4a6b-decc-e807ae9c5df7"
      },
      "outputs": [
        {
          "output_type": "stream",
          "name": "stdout",
          "text": [
            "0 35 70 "
          ]
        }
      ],
      "source": [
        "#1. Please write a program using generator to print the numbers which can be divisible by 5 and 7 between 0 and n in comma separated form while n is input by console ?\n",
        "#Example:\n",
        "#If the following n is given as input to the program: 100\n",
        "#Then, the output of the program should be: 0,35,70\n",
        "\n",
        "def showDivisible(in_num):\n",
        "    for ele in range(0,in_num):\n",
        "        if (ele%5 == 0) and (ele%7 == 0):\n",
        "            yield ele\n",
        "for ele in showDivisible(100):\n",
        "    print(ele,end=' ')"
      ]
    },
    {
      "cell_type": "code",
      "source": [
        "#2.Please write a program using generator to print the even numbers between 0 and n in comma separated form while n is input by console ?\n",
        "#Example:\n",
        "#If the following n is given as input to the program: 10\n",
        "#Then, the output of the program should be: 0,2,4,6,8,10\n",
        "\n",
        "def genEvenNumbers(in_num):\n",
        "    for ele in range(in_num+1):\n",
        "        if ele%2 == 0:\n",
        "            yield ele\n",
        "\n",
        "for ele in genEvenNumbers(10):\n",
        "    print(ele,end=' ')"
      ],
      "metadata": {
        "colab": {
          "base_uri": "https://localhost:8080/"
        },
        "id": "v-CAollkfKYr",
        "outputId": "53808c8a-33d4-4b11-be54-2d65de97c141"
      },
      "execution_count": 2,
      "outputs": [
        {
          "output_type": "stream",
          "name": "stdout",
          "text": [
            "0 2 4 6 8 10 "
          ]
        }
      ]
    },
    {
      "cell_type": "code",
      "source": [
        "#3.The Fibonacci Sequence is computed based on the following formula below, Please write a program using list comprehension to print the Fibonacci Sequence in comma separated form with a given n input by console ?\n",
        "#f(n)=0 if n=0 f(n)=1 if n=1 f(n)=f(n-1)+f(n-2) if n>1\n",
        "\n",
        "def genFibonaci(in_num):\n",
        "    if in_num == 0:\n",
        "        return 0\n",
        "    elif in_num == 1:\n",
        "        return 1\n",
        "    else:\n",
        "        return genFibonaci(in_num-1)+genFibonaci(in_num-2)\n",
        "\n",
        "print([genFibonaci(x) for x in range(20)])"
      ],
      "metadata": {
        "colab": {
          "base_uri": "https://localhost:8080/"
        },
        "id": "4JdnaFrDfTQD",
        "outputId": "cae939a6-692c-492b-b34c-3bf02e2eca94"
      },
      "execution_count": 4,
      "outputs": [
        {
          "output_type": "stream",
          "name": "stdout",
          "text": [
            "[0, 1, 1, 2, 3, 5, 8, 13, 21, 34, 55, 89, 144, 233, 377, 610, 987, 1597, 2584, 4181]\n"
          ]
        }
      ]
    },
    {
      "cell_type": "code",
      "source": [
        "#4.Assuming that we have some email addresses in the \"username@companyname.com\" format, please write program to print the user name of a given email address. Both user names and company names are composed of letters only ?\n",
        "#Example:\n",
        "#If the following email address is given as input to the program: john@google.com\n",
        "#Then, the output of the program should be: john\n",
        "\n",
        "def getUsernames():\n",
        "    in_string = input('Enter Email Address(es): ')\n",
        "    out_string = in_string.split('@')\n",
        "    print(f'Username of {in_string} is {out_string[0]}')\n",
        "\n",
        "for i in range(3):\n",
        "    getUsernames()"
      ],
      "metadata": {
        "colab": {
          "base_uri": "https://localhost:8080/"
        },
        "id": "U8XJULQIfXIa",
        "outputId": "01b077a2-8096-4733-d4cd-5cbc67e872c4"
      },
      "execution_count": 5,
      "outputs": [
        {
          "output_type": "stream",
          "name": "stdout",
          "text": [
            "Enter Email Address(es): biswaranjandash2001@gmail.com\n",
            "Username of biswaranjandash2001@gmail.com is biswaranjandash2001\n",
            "Enter Email Address(es): support.query@ineuron.ai\n",
            "Username of support.query@ineuron.ai is support.query\n",
            "Enter Email Address(es): manovishnu@outlook.com\n",
            "Username of manovishnu@outlook.com is manovishnu\n"
          ]
        }
      ]
    },
    {
      "cell_type": "code",
      "source": [
        "#5.Define a class named Shape and its subclass Square. The Square class has an init function which takes a length as argument. Both classes have a area function which can print the area of the shape where Shape's area is 0 by default.\n",
        "class Shape:\n",
        "    def area(self):\n",
        "        return 0\n",
        "\n",
        "class Square(Shape):\n",
        "    def __init__(self, length):\n",
        "        self.length = length\n",
        "    def area(self):\n",
        "        return self.length*self.length\n",
        "\n",
        "square = Square(50)\n",
        "print(square.area())"
      ],
      "metadata": {
        "colab": {
          "base_uri": "https://localhost:8080/"
        },
        "id": "x5Vt0XOQfeRb",
        "outputId": "bc4e13d5-238d-4477-f346-2ce04dd5aa3b"
      },
      "execution_count": 6,
      "outputs": [
        {
          "output_type": "stream",
          "name": "stdout",
          "text": [
            "2500\n"
          ]
        }
      ]
    },
    {
      "cell_type": "code",
      "source": [],
      "metadata": {
        "id": "F0T7It7sf4Yw"
      },
      "execution_count": null,
      "outputs": []
    }
  ]
}