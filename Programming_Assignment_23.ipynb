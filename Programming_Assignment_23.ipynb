{
  "nbformat": 4,
  "nbformat_minor": 0,
  "metadata": {
    "colab": {
      "provenance": [],
      "authorship_tag": "ABX9TyOegM/ywZsZjwzldBM7LOiJ",
      "include_colab_link": true
    },
    "kernelspec": {
      "name": "python3",
      "display_name": "Python 3"
    },
    "language_info": {
      "name": "python"
    }
  },
  "cells": [
    {
      "cell_type": "markdown",
      "metadata": {
        "id": "view-in-github",
        "colab_type": "text"
      },
      "source": [
        "<a href=\"https://colab.research.google.com/github/biswaranjandash/FSDSassignments/blob/Python_Programming-Assignment/Programming_Assignment_23.ipynb\" target=\"_parent\"><img src=\"https://colab.research.google.com/assets/colab-badge.svg\" alt=\"Open In Colab\"/></a>"
      ]
    },
    {
      "cell_type": "code",
      "execution_count": 1,
      "metadata": {
        "colab": {
          "base_uri": "https://localhost:8080/"
        },
        "id": "Kkcf8ehvoRrX",
        "outputId": "87a7e7f5-ed7f-455b-b60f-35be21009daa"
      },
      "outputs": [
        {
          "output_type": "stream",
          "name": "stdout",
          "text": [
            "7227 ➞ True\n",
            "12567 ➞ False\n",
            "44444444 ➞ True\n",
            "9939 ➞ False\n",
            "1112111 ➞ True\n"
          ]
        }
      ],
      "source": [
        "#1.Create a function that takes a number as an argument and returns True or False depending on whether the number is symmetrical or not. A number is symmetrical when it is the same as its reverse.\n",
        "#Examples:\n",
        "#is_symmetrical(7227) ➞ True\n",
        "#is_symmetrical(12567) ➞ False\n",
        "#is_symmetrical(44444444) ➞ True\n",
        "#is_symmetrical(9939) ➞ False\n",
        "#is_symmetrical(1112111) ➞ True\n",
        "\n",
        "def is_symmetrical(in_num):\n",
        "    if str(in_num) == str(in_num)[::-1]:\n",
        "        print(f'{in_num} ➞ {True}')\n",
        "    else:\n",
        "        print(f'{in_num} ➞ {False}')\n",
        "\n",
        "is_symmetrical(7227)\n",
        "is_symmetrical(12567)\n",
        "is_symmetrical(44444444)\n",
        "is_symmetrical(9939)\n",
        "is_symmetrical(1112111)"
      ]
    },
    {
      "cell_type": "code",
      "source": [
        "#2.Given a string of numbers separated by a comma and space, return the product of the numbers.\n",
        "#Examples:\n",
        "#multiply_nums(\"2, 3\") ➞ 6\n",
        "#multiply_nums(\"1, 2, 3, 4\") ➞ 24\n",
        "#multiply_nums(\"54, 75, 453, 0\") ➞ 0\n",
        "#multiply_nums(\"10, -2\") ➞ -20\n",
        "\n",
        "def multiply_nums(in_string):\n",
        "    out_string = in_string.replace(' ','').split(',')\n",
        "    out_num = 1\n",
        "    for ele in out_string:\n",
        "        out_num *= int(ele)\n",
        "    print(f'{in_string} ➞ {out_num}')\n",
        "\n",
        "multiply_nums(\"2, 3\")\n",
        "multiply_nums(\"1, 2, 3, 4\")\n",
        "multiply_nums(\"54, 75, 453, 0\")\n",
        "multiply_nums(\"10, -2\")"
      ],
      "metadata": {
        "colab": {
          "base_uri": "https://localhost:8080/"
        },
        "id": "fWcLNnLdobVs",
        "outputId": "608fff5f-b573-4ce2-afc0-994a24c5addc"
      },
      "execution_count": 2,
      "outputs": [
        {
          "output_type": "stream",
          "name": "stdout",
          "text": [
            "2, 3 ➞ 6\n",
            "1, 2, 3, 4 ➞ 24\n",
            "54, 75, 453, 0 ➞ 0\n",
            "10, -2 ➞ -20\n"
          ]
        }
      ]
    },
    {
      "cell_type": "code",
      "source": [
        "#3.Create a function that squares every digit of a number.\n",
        "#Examples:\n",
        "#square_digits(9119) ➞ 811181\n",
        "#square_digits(2483) ➞ 416649\n",
        "#square_digits(3212) ➞ 9414\n",
        "\n",
        "#Notes:\n",
        "#The function receives an integer and must return an integer.\n",
        "\n",
        "def square_digits(in_num):\n",
        "    in_list = [str(int(ele)**2) for ele in str(in_num)]\n",
        "    out_list = ''.join(in_list)\n",
        "    print(f'{in_num} ➞ {int(out_list)}')\n",
        "\n",
        "square_digits(9119)\n",
        "square_digits(2483)\n",
        "square_digits(3212)"
      ],
      "metadata": {
        "colab": {
          "base_uri": "https://localhost:8080/"
        },
        "id": "5geAXa29ojHs",
        "outputId": "fc8d5789-285b-4801-c480-70882babed2c"
      },
      "execution_count": 3,
      "outputs": [
        {
          "output_type": "stream",
          "name": "stdout",
          "text": [
            "9119 ➞ 811181\n",
            "2483 ➞ 416649\n",
            "3212 ➞ 9414\n"
          ]
        }
      ]
    },
    {
      "cell_type": "code",
      "source": [
        "#4.Create a function that sorts a list and removes all duplicate items from it.\n",
        "#Examples:\n",
        "#setify([1, 3, 3, 5, 5]) ➞ [1, 3, 5]\n",
        "#setify([4, 4, 4, 4]) ➞ [4]\n",
        "#setify([5, 7, 8, 9, 10, 15]) ➞ [5, 7, 8, 9, 10, 15]\n",
        "#setify([3, 3, 3, 2, 1]) ➞ [1, 2, 3]\n",
        "\n",
        "def setify(in_list):\n",
        "    out_list = sorted(set(in_list))\n",
        "    print(f'{in_list} ➞ {out_list}')\n",
        "\n",
        "setify([1, 3, 3, 5, 5])\n",
        "setify([4, 4, 4, 4])\n",
        "setify([5, 7, 8, 9, 10, 15])\n",
        "setify([3, 3, 3, 2, 1])"
      ],
      "metadata": {
        "colab": {
          "base_uri": "https://localhost:8080/"
        },
        "id": "qKyuch_aorMy",
        "outputId": "f9008833-76f7-4fa4-8438-689a27af6d88"
      },
      "execution_count": 4,
      "outputs": [
        {
          "output_type": "stream",
          "name": "stdout",
          "text": [
            "[1, 3, 3, 5, 5] ➞ [1, 3, 5]\n",
            "[4, 4, 4, 4] ➞ [4]\n",
            "[5, 7, 8, 9, 10, 15] ➞ [5, 7, 8, 9, 10, 15]\n",
            "[3, 3, 3, 2, 1] ➞ [1, 2, 3]\n"
          ]
        }
      ]
    },
    {
      "cell_type": "code",
      "source": [
        "#5.Create a function that returns the mean of all digits.\n",
        "#Examples:\n",
        "#mean(42) ➞ 3\n",
        "#mean(12345) ➞ 3\n",
        "#mean(666) ➞ 6\n",
        "\n",
        "#Notes:\n",
        "#1.The mean of all digits is the sum of digits / how many digits there are (e.g. mean of digits in 512 is (5+1+2)/3(number of digits) = 8/3=2).\n",
        "#2.The mean will always be an integer.\n",
        "\n",
        "def mean(in_num):\n",
        "    in_list = [int(ele) for ele in str(in_num)]\n",
        "    out_num = sum(in_list)/len(str(in_num))\n",
        "    print(f'Mean of {in_num}  ➞ {out_num:.0f}')\n",
        "\n",
        "mean(42)\n",
        "mean(12345)\n",
        "mean(666)"
      ],
      "metadata": {
        "colab": {
          "base_uri": "https://localhost:8080/"
        },
        "id": "QT5Cpnhyo0lM",
        "outputId": "c29009ee-052f-448c-b7bb-bb731f7607aa"
      },
      "execution_count": 5,
      "outputs": [
        {
          "output_type": "stream",
          "name": "stdout",
          "text": [
            "Mean of 42  ➞ 3\n",
            "Mean of 12345  ➞ 3\n",
            "Mean of 666  ➞ 6\n"
          ]
        }
      ]
    },
    {
      "cell_type": "code",
      "source": [],
      "metadata": {
        "id": "MmbS5Oy6o9mf"
      },
      "execution_count": null,
      "outputs": []
    }
  ]
}