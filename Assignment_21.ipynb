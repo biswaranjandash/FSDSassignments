{
  "nbformat": 4,
  "nbformat_minor": 0,
  "metadata": {
    "colab": {
      "provenance": [],
      "authorship_tag": "ABX9TyPoPtkjwKpMsM/Rr6lumfL/",
      "include_colab_link": true
    },
    "kernelspec": {
      "name": "python3",
      "display_name": "Python 3"
    },
    "language_info": {
      "name": "python"
    }
  },
  "cells": [
    {
      "cell_type": "markdown",
      "metadata": {
        "id": "view-in-github",
        "colab_type": "text"
      },
      "source": [
        "<a href=\"https://colab.research.google.com/github/biswaranjandash/FSDSassignments/blob/main/Assignment_21.ipynb\" target=\"_parent\"><img src=\"https://colab.research.google.com/assets/colab-badge.svg\" alt=\"Open In Colab\"/></a>"
      ]
    },
    {
      "cell_type": "code",
      "execution_count": 1,
      "metadata": {
        "id": "liG9QD5yvgll",
        "colab": {
          "base_uri": "https://localhost:8080/"
        },
        "outputId": "512b0f4b-bf09-4c5e-931b-ff60db702ad8"
      },
      "outputs": [
        {
          "output_type": "stream",
          "name": "stdout",
          "text": [
            "11-06-2023\n"
          ]
        }
      ],
      "source": [
        "#1. Add the current date to the text file today.txt as a string.\n",
        "import datetime\n",
        "# Code to Add current date to the today.txt file\n",
        "file = open('today.txt','w')\n",
        "file.write(datetime.datetime.now().strftime(\"%d-%m-%Y\"))\n",
        "file.close()\n",
        "# Code to Read current date from today.txt file\n",
        "file = open('today.txt','r')\n",
        "print(file.read())\n",
        "file.close()"
      ]
    },
    {
      "cell_type": "code",
      "source": [
        "#2. Read the text file today.txt into the string today_string\n",
        "file = open('today.txt','r')\n",
        "today_string = file.read()\n",
        "print(today_string)"
      ],
      "metadata": {
        "colab": {
          "base_uri": "https://localhost:8080/"
        },
        "id": "TQmHRQVH5V0s",
        "outputId": "a9e5f3fc-40e2-48a5-915a-c648eec0578b"
      },
      "execution_count": 2,
      "outputs": [
        {
          "output_type": "stream",
          "name": "stdout",
          "text": [
            "11-06-2023\n"
          ]
        }
      ]
    },
    {
      "cell_type": "code",
      "source": [
        "#3. Parse the date from today_string.\n",
        "from datetime import datetime\n",
        "parsed_data = datetime.strptime(today_string, '%d-%m-%Y')\n",
        "print(parsed_data)"
      ],
      "metadata": {
        "colab": {
          "base_uri": "https://localhost:8080/"
        },
        "id": "QHkqn3BZ5otA",
        "outputId": "f89063c4-40f4-439d-a6d4-3f5b27d9f050"
      },
      "execution_count": 3,
      "outputs": [
        {
          "output_type": "stream",
          "name": "stdout",
          "text": [
            "2023-06-11 00:00:00\n"
          ]
        }
      ]
    },
    {
      "cell_type": "code",
      "source": [
        "#4. List the files in your current directory\n",
        "import os\n",
        "for folders, subfolders, files in os.walk(os.getcwd()):\n",
        "    for file in files:\n",
        "        print(file)"
      ],
      "metadata": {
        "colab": {
          "base_uri": "https://localhost:8080/"
        },
        "id": "j5-zw6aC5tOC",
        "outputId": "f3d94223-2bb2-49c7-e99a-5630dfe2c2f6"
      },
      "execution_count": 5,
      "outputs": [
        {
          "output_type": "stream",
          "name": "stdout",
          "text": [
            "today.txt\n",
            "config_sentinel\n",
            ".last_opt_in_prompt.yaml\n",
            ".last_update_check.json\n",
            ".last_survey_prompt.yaml\n",
            "gce\n",
            "active_config\n",
            "config_default\n",
            "18.16.24.257811.log\n",
            "18.17.21.262808.log\n",
            "18.17.13.539321.log\n",
            "18.17.46.423408.log\n",
            "18.16.49.384175.log\n",
            "18.17.47.134973.log\n",
            "anscombe.json\n",
            "README.md\n",
            "california_housing_test.csv\n",
            "california_housing_train.csv\n",
            "mnist_train_small.csv\n",
            "mnist_test.csv\n"
          ]
        }
      ]
    },
    {
      "cell_type": "code",
      "source": [
        "#5. Create a list of all of the files in your parent directory (minimum five files should be available).\n",
        "import os \n",
        "os.listdir()"
      ],
      "metadata": {
        "colab": {
          "base_uri": "https://localhost:8080/"
        },
        "id": "rRspzdAF5zI4",
        "outputId": "4125a0b2-a529-4b9a-d785-1051d4d886b4"
      },
      "execution_count": 7,
      "outputs": [
        {
          "output_type": "execute_result",
          "data": {
            "text/plain": [
              "['.config', 'zoo.py', 'today.txt', 'output.csv', 'data.csv', 'sample_data']"
            ]
          },
          "metadata": {},
          "execution_count": 7
        }
      ]
    },
    {
      "cell_type": "code",
      "source": [
        "#6. Use multiprocessing to create three separate processes. Make each one wait a random number of seconds between one and five, print the current time, and then exit.\n",
        "import multiprocessing\n",
        "import time \n",
        "import random\n",
        "import datetime\n",
        "\n",
        "def procOne():\n",
        "    print(f'Proc_one_Starttime -> {datetime.datetime.now()}')\n",
        "    time.sleep(random.randint(1,5))\n",
        "    print(f'Proc_one_Endtime -> {datetime.datetime.now()}')\n",
        "    \n",
        "def procTwo():\n",
        "    print(f'Proc_two_Starttime -> {datetime.datetime.now()}')\n",
        "    time.sleep(random.randint(1,5))\n",
        "    print(f'Proc_two_Endtime -> {datetime.datetime.now()}')\n",
        "\n",
        "def procThree():\n",
        "    print(f'Proc_two_Starttime -> {datetime.datetime.now()}')\n",
        "    time.sleep(random.randint(1,5))\n",
        "    print(f'Proc_two_Endtime -> {datetime.datetime.now()}')\n",
        "    \n",
        "if __name__ == \"__main__\":    \n",
        "    p1 = multiprocessing.Process(target=procOne)\n",
        "    p2 = multiprocessing.Process(target=procTwo)\n",
        "    p3 = multiprocessing.Process(target=procThree)\n",
        "\n",
        "    p1.start()\n",
        "    p2.start()\n",
        "    p3.start()\n",
        "\n",
        "    p1.join()\n",
        "    p2.join()\n",
        "    p3.join()"
      ],
      "metadata": {
        "colab": {
          "base_uri": "https://localhost:8080/"
        },
        "id": "u22aVVkl6BNY",
        "outputId": "568600df-82ed-4614-8613-8efea84df2e3"
      },
      "execution_count": 8,
      "outputs": [
        {
          "output_type": "stream",
          "name": "stdout",
          "text": [
            "Proc_one_Starttime -> 2023-06-11 14:44:27.426407\n",
            "Proc_two_Starttime -> 2023-06-11 14:44:27.435030\n",
            "Proc_two_Starttime -> 2023-06-11 14:44:27.446067\n",
            "Proc_two_Endtime -> 2023-06-11 14:44:28.459338\n",
            "Proc_one_Endtime -> 2023-06-11 14:44:29.440314\n",
            "Proc_two_Endtime -> 2023-06-11 14:44:31.457272\n"
          ]
        }
      ]
    },
    {
      "cell_type": "code",
      "source": [
        "#7. Create a date object of your day of birth.\n",
        "from datetime import datetime\n",
        "my_dob = datetime.strptime('30/03/2001','%d/%m/%Y')\n",
        "print(my_dob, type(my_dob))"
      ],
      "metadata": {
        "colab": {
          "base_uri": "https://localhost:8080/"
        },
        "id": "CbOizKMu6lvb",
        "outputId": "c4b81ab3-acc6-4819-df18-ffccff9f94fd"
      },
      "execution_count": 9,
      "outputs": [
        {
          "output_type": "stream",
          "name": "stdout",
          "text": [
            "2001-03-30 00:00:00 <class 'datetime.datetime'>\n"
          ]
        }
      ]
    },
    {
      "cell_type": "code",
      "source": [
        "#8. What day of the week was your day of birth?\n",
        "from datetime import datetime\n",
        "my_dob = datetime(2001,3,30)\n",
        "my_dob.strftime(\"%A\")"
      ],
      "metadata": {
        "colab": {
          "base_uri": "https://localhost:8080/",
          "height": 36
        },
        "id": "CP9x9w4w67SC",
        "outputId": "36b1392d-6244-498f-c0e0-0fac6848dd96"
      },
      "execution_count": 10,
      "outputs": [
        {
          "output_type": "execute_result",
          "data": {
            "text/plain": [
              "'Friday'"
            ],
            "application/vnd.google.colaboratory.intrinsic+json": {
              "type": "string"
            }
          },
          "metadata": {},
          "execution_count": 10
        }
      ]
    },
    {
      "cell_type": "code",
      "source": [
        "from datetime import datetime, timedelta\n",
        "\n",
        "birthdate = datetime(2001,3,30) \n",
        "future_date = birthdate + timedelta(days=10000)\n",
        "print(f\"The date when you will be/were 10,000 days old is: {future_date.date()}\")\n"
      ],
      "metadata": {
        "colab": {
          "base_uri": "https://localhost:8080/"
        },
        "id": "1hkRB7O47OjO",
        "outputId": "9ae1a750-1d99-4b7c-88e4-895ef4b2bce5"
      },
      "execution_count": 15,
      "outputs": [
        {
          "output_type": "stream",
          "name": "stdout",
          "text": [
            "The date when you will be/were 10,000 days old is: 2028-08-15\n"
          ]
        }
      ]
    },
    {
      "cell_type": "code",
      "source": [],
      "metadata": {
        "id": "OpEkKAVl7-oU"
      },
      "execution_count": null,
      "outputs": []
    }
  ]
}