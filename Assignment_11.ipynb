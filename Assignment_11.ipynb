{
  "nbformat": 4,
  "nbformat_minor": 0,
  "metadata": {
    "colab": {
      "provenance": [],
      "authorship_tag": "ABX9TyMr7PTEt1DCP9nqgwk+Fjxt",
      "include_colab_link": true
    },
    "kernelspec": {
      "name": "python3",
      "display_name": "Python 3"
    },
    "language_info": {
      "name": "python"
    }
  },
  "cells": [
    {
      "cell_type": "markdown",
      "metadata": {
        "id": "view-in-github",
        "colab_type": "text"
      },
      "source": [
        "<a href=\"https://colab.research.google.com/github/biswaranjandash/FSDSassignments/blob/main/Assignment_11.ipynb\" target=\"_parent\"><img src=\"https://colab.research.google.com/assets/colab-badge.svg\" alt=\"Open In Colab\"/></a>"
      ]
    },
    {
      "cell_type": "code",
      "execution_count": 1,
      "metadata": {
        "id": "CEJphP5r5LGj"
      },
      "outputs": [],
      "source": [
        "#Q1. What is the concept of a metaclass?\n",
        "#Ans: Metaclass in Python is a class of a class that defines how a class behaves. A class is itself a instance of Metaclass, and any Instance of Class in Python is an Instance of type metaclass. E.g. Type of of int, str, float, list, tuple and many more is of metaclass type."
      ]
    },
    {
      "cell_type": "code",
      "source": [
        "#Q2. What is the best way to declare a class's metaclass?\n",
        "#Ans: A way to declare a class’ metaclass is by using metaclass keyword in class definition.\n",
        "\n",
        "class meta(type):\n",
        "    pass\n",
        "class class_meta(metaclass=meta):\n",
        "    pass\n",
        "print(type(meta))\n",
        "print(type(class_meta))"
      ],
      "metadata": {
        "colab": {
          "base_uri": "https://localhost:8080/"
        },
        "id": "P26lYke75U3A",
        "outputId": "fd8b088c-f4bd-44b8-b056-cf4318b6e253"
      },
      "execution_count": 2,
      "outputs": [
        {
          "output_type": "stream",
          "name": "stdout",
          "text": [
            "<class 'type'>\n",
            "<class '__main__.meta'>\n"
          ]
        }
      ]
    },
    {
      "cell_type": "code",
      "source": [
        "#Q3. How do class decorators overlap with metaclasses for handling classes ?\n",
        "#Ans: Anything you can do with a class decorator, you can of course do with a custom metaclasses (just apply the functionality of the \"decorator function\", i.e., the one that takes a class object and modifies it, in the course of the metaclass's __new__ or __init__ that make the class object!)."
      ],
      "metadata": {
        "id": "2PNSxU_u5ZPz"
      },
      "execution_count": 3,
      "outputs": []
    },
    {
      "cell_type": "code",
      "source": [
        "#Q4. How do class decorators overlap with metaclasses for handling instances?\n",
        "#Ans: Anything you can do with a class decorator, you can of course do with a custom metaclass (just apply the functionality of the \"decorator function\", i.e., the one that takes a class object and modifies it, in the course of the metaclass's __new__ or __init__ that make the class object!)."
      ],
      "metadata": {
        "id": "v0r0Y7_d8aBP"
      },
      "execution_count": 4,
      "outputs": []
    },
    {
      "cell_type": "code",
      "source": [],
      "metadata": {
        "id": "rCdz11bU8cQo"
      },
      "execution_count": null,
      "outputs": []
    }
  ]
}