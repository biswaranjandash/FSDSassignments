{
  "nbformat": 4,
  "nbformat_minor": 0,
  "metadata": {
    "colab": {
      "provenance": [],
      "authorship_tag": "ABX9TyNHb/NLueYIASN6htcCOOTd",
      "include_colab_link": true
    },
    "kernelspec": {
      "name": "python3",
      "display_name": "Python 3"
    },
    "language_info": {
      "name": "python"
    }
  },
  "cells": [
    {
      "cell_type": "markdown",
      "metadata": {
        "id": "view-in-github",
        "colab_type": "text"
      },
      "source": [
        "<a href=\"https://colab.research.google.com/github/biswaranjandash/FSDSassignments/blob/main/Assignment_12.ipynb\" target=\"_parent\"><img src=\"https://colab.research.google.com/assets/colab-badge.svg\" alt=\"Open In Colab\"/></a>"
      ]
    },
    {
      "cell_type": "code",
      "execution_count": 1,
      "metadata": {
        "id": "iJ6bF0MS8qL4"
      },
      "outputs": [],
      "source": [
        "#Q1. Does assigning a value to a string's indexed character violate Python's string immutability ?\n",
        "#Ans: String’s indexed character cannot to be assigned a New value , as Strings are immutable.\n",
        "#Example:\n",
        "#name = \"Reinforcement\"\n",
        "#print(id(name)) #73472\n",
        "#name[0] = \"V\" # Raises TypeError"
      ]
    },
    {
      "cell_type": "code",
      "source": [
        "#Q2. Does using the += operator to concatenate strings violate Python's string immutability? Why or why not ?\n",
        "#Ans: += operator is used to concatenate strings, it does not violate Python’s string immutability Property. Because doing so new creates a new association with data and variable. E.g. str_1=\"a\" and str_1+=\"b. effect of this statements to create string ab and reassign it to variable str_1, any string data is not actually modified.\n",
        "\n",
        "str_1 = 'a'\n",
        "print(id(str_1))\n",
        "str_1 += 'b'\n",
        "print(id(str_1)) # Does not Modify existing string, Creates a New String Object"
      ],
      "metadata": {
        "colab": {
          "base_uri": "https://localhost:8080/"
        },
        "id": "obzpWWDA83LO",
        "outputId": "fd1499e0-6560-40c5-84c5-15ad505d6ad8"
      },
      "execution_count": 2,
      "outputs": [
        {
          "output_type": "stream",
          "name": "stdout",
          "text": [
            "133880612486896\n",
            "133880171444848\n"
          ]
        }
      ]
    },
    {
      "cell_type": "code",
      "source": [
        "#Q3. In Python, how many different ways are there to index a character?\n",
        "#Ans: A Character in string can be indexed using string name followed by index number of character in square bracket. Positive Indexing i.e. first index is 0 an so on, or Negative Indexing i.e. last letter is -1 and so on can be used to index a character\n",
        "\n",
        "in_string = \"iNeuron Full Stack Data Science\"\n",
        "print(in_string[9],in_string[10],in_string[2]) # Positive Indexing\n",
        "print(in_string[-1],in_string[-5],in_string[-2]) # Negative Indexing"
      ],
      "metadata": {
        "colab": {
          "base_uri": "https://localhost:8080/"
        },
        "id": "UZOFzzjF88sn",
        "outputId": "c3914df4-16c5-4d71-e50f-8ab03cb85f0f"
      },
      "execution_count": 3,
      "outputs": [
        {
          "output_type": "stream",
          "name": "stdout",
          "text": [
            "u l e\n",
            "e i c\n"
          ]
        }
      ]
    },
    {
      "cell_type": "code",
      "source": [
        "#Q4. What is the relationship between indexing and slicing?\n",
        "#Ans: We can access elements of sequence datatypes by using slicing and indexing. Indexing is used to obtaining individual element while slicing for sequence of elements.\n",
        "\n",
        "in_string = \"iNeuron Full Stack Data Science\"\n",
        "print(in_string[1],in_string[3],in_string[5]) # Indexing\n",
        "print(in_string[1:15]) # Slicing"
      ],
      "metadata": {
        "colab": {
          "base_uri": "https://localhost:8080/"
        },
        "id": "MXpo79_J9BLS",
        "outputId": "ffe7fcb4-bc5d-4bf3-b5fa-178306db34d2"
      },
      "execution_count": 4,
      "outputs": [
        {
          "output_type": "stream",
          "name": "stdout",
          "text": [
            "N u o\n",
            "Neuron Full St\n"
          ]
        }
      ]
    },
    {
      "cell_type": "code",
      "source": [
        "#Q5. What is an indexed character's exact data type? What is the data form of a slicing-generated substring?\n",
        "#Ans: Indexed characters and sliced substrings have datatype String.\n",
        "\n",
        "in_string = \"iNeuron Full Stack Data Science\"\n",
        "print(type(in_string[3])) # Indexing -> str\n",
        "print(type(in_string[1:10])) # Indexing -> str"
      ],
      "metadata": {
        "colab": {
          "base_uri": "https://localhost:8080/"
        },
        "id": "D2YFhEJd9FSt",
        "outputId": "c5b00ecc-2efb-464f-b10f-61c401751865"
      },
      "execution_count": 5,
      "outputs": [
        {
          "output_type": "stream",
          "name": "stdout",
          "text": [
            "<class 'str'>\n",
            "<class 'str'>\n"
          ]
        }
      ]
    },
    {
      "cell_type": "code",
      "source": [
        "#Q6. What is the relationship between string and character \"types\" in Python?\n",
        "#Ans: Object that contains sequence of character datatypes are called String."
      ],
      "metadata": {
        "id": "KxX7pVRZ9KmU"
      },
      "execution_count": 6,
      "outputs": []
    },
    {
      "cell_type": "code",
      "source": [
        "#Q7. Identify at least two operators & one method that allow you to combine one or more smaller strings to create a larger string ?\n",
        "#Ans: +, += and * allow to combine one or more smaller strings to create a larger string. <string>.join(<sep>) method joins element of iterable type like list and tuple to get a combined string.\n",
        "\n",
        "in_string = 'iNeuron '\n",
        "in_string += 'Full Stack Data Science'\n",
        "print(in_string + ' FSDS')\n",
        "print('FSDS '*3)\n",
        "print(\" \".join(['I','N','E','U','R','O','N'])) # List Iterable\n",
        "print(\" \".join(('I','N','E','U','R','O','N')).lower()) # Tuple Iterable"
      ],
      "metadata": {
        "colab": {
          "base_uri": "https://localhost:8080/"
        },
        "id": "pvv2K-ni9PLo",
        "outputId": "a4d40021-62f2-4a37-d51d-a528a23ad9d4"
      },
      "execution_count": 7,
      "outputs": [
        {
          "output_type": "stream",
          "name": "stdout",
          "text": [
            "iNeuron Full Stack Data Science FSDS\n",
            "FSDS FSDS FSDS \n",
            "I N E U R O N\n",
            "i n e u r o n\n"
          ]
        }
      ]
    },
    {
      "cell_type": "code",
      "source": [
        "#Q8. What is the benefit of first checking the target string with in or not in before using the index method to find a substring ?\n",
        "#Ans: Checking the target string with in or not Operators before using the index method to find a substring just helps confirming availability of substring and thus avoid raising of ValueError.\n",
        "#Example:\n",
        "#in_string = \"ineuron\"\n",
        "#in_string.index('x') # Raises ValueError\n",
        "#in_string.index('u') # 3"
      ],
      "metadata": {
        "id": "veJpebC09Tu2"
      },
      "execution_count": 8,
      "outputs": []
    },
    {
      "cell_type": "code",
      "source": [
        "#Q9. Which operators and built-in string methods produce simple Boolean (true/false) results?\n",
        "#Ans: The String Operators and built-in methods to Produce Simple Boolean (True/False) Results are:\n",
        "\n",
        "#.in\n",
        "#.not\n",
        "#.<string>.isalpha()\n",
        "#.<string>.isalnum()\n",
        "#.<string>.isdecimal()\n",
        "#.<string>.isdigit()\n",
        "#.<string>.islower()\n",
        "#.<string>.isnumeric()\n",
        "#.<string>.isprintable()\n",
        "#.<string>.isspace()\n",
        "#.<string>.istitle()"
      ],
      "metadata": {
        "id": "bZrbS7cT9aI8"
      },
      "execution_count": 9,
      "outputs": []
    },
    {
      "cell_type": "code",
      "source": [],
      "metadata": {
        "id": "TXCnX9jR9nm6"
      },
      "execution_count": null,
      "outputs": []
    }
  ]
}