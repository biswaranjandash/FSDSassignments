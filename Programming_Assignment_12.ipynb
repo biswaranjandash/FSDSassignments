{
  "nbformat": 4,
  "nbformat_minor": 0,
  "metadata": {
    "colab": {
      "provenance": [],
      "authorship_tag": "ABX9TyMuJq/Dd8HTpxy51Czsx/vC",
      "include_colab_link": true
    },
    "kernelspec": {
      "name": "python3",
      "display_name": "Python 3"
    },
    "language_info": {
      "name": "python"
    }
  },
  "cells": [
    {
      "cell_type": "markdown",
      "metadata": {
        "id": "view-in-github",
        "colab_type": "text"
      },
      "source": [
        "<a href=\"https://colab.research.google.com/github/biswaranjandash/FSDSassignments/blob/Python_Programming-Assignment/Programming_Assignment_12.ipynb\" target=\"_parent\"><img src=\"https://colab.research.google.com/assets/colab-badge.svg\" alt=\"Open In Colab\"/></a>"
      ]
    },
    {
      "cell_type": "code",
      "execution_count": 1,
      "metadata": {
        "colab": {
          "base_uri": "https://localhost:8080/"
        },
        "id": "OnsV1cPEYSsS",
        "outputId": "d9322fe0-f5bb-43aa-e677-e2a867cf9ac2"
      },
      "outputs": [
        {
          "output_type": "stream",
          "name": "stdout",
          "text": [
            "dict_values(['Rishikesh', 'Badrinath', 'Gangotri', 'Yamunotri', 'Kedarnath', 'Tirupati', 'Kedarnath'])\n",
            "Unique Values: ['Badrinath', 'Kedarnath', 'Tirupati', 'Rishikesh', 'Yamunotri', 'Gangotri']\n"
          ]
        }
      ],
      "source": [
        "#1.Write a Python program to Extract Unique values dictionary values?\n",
        "in_dict = {1:'Rishikesh',2:'Badrinath',3:'Gangotri',4:'Yamunotri',5:'Kedarnath',6:'Tirupati',7:'Kedarnath'}\n",
        "print(in_dict.values())\n",
        "print(f'Unique Values: {list(set(in_dict.values()))}')"
      ]
    },
    {
      "cell_type": "code",
      "source": [
        "#2.Write a Python program to find the sum of all items in a dictionary?\n",
        "in_dict = {'Apple':10,'Mango':20,'Banana':30,'Guava':40,'PineApple':200}\n",
        "print('Sum of All items: ',sum(in_dict.values()))"
      ],
      "metadata": {
        "colab": {
          "base_uri": "https://localhost:8080/"
        },
        "id": "nUf8feq0YbWg",
        "outputId": "5d5253e8-094f-435d-dca7-9f2cb357bfbf"
      },
      "execution_count": 2,
      "outputs": [
        {
          "output_type": "stream",
          "name": "stdout",
          "text": [
            "Sum of All items:  300\n"
          ]
        }
      ]
    },
    {
      "cell_type": "code",
      "source": [
        "#3.Write a Python program to Merging two Dictionaries?\n",
        "course_details = {\n",
        "    'cousre_name':'Ineuron'\n",
        "}\n",
        "instructors = {\n",
        "    'course_instructors':['Sudhanshu Kumar','Krish Naik']\n",
        "}\n",
        "course_details.update(instructors)\n",
        "print(course_details)"
      ],
      "metadata": {
        "colab": {
          "base_uri": "https://localhost:8080/"
        },
        "id": "q1fFhpEoYoVR",
        "outputId": "dcaa6b33-9140-4714-8901-c8c47b3ec65d"
      },
      "execution_count": 3,
      "outputs": [
        {
          "output_type": "stream",
          "name": "stdout",
          "text": [
            "{'cousre_name': 'Ineuron', 'course_instructors': ['Sudhanshu Kumar', 'Krish Naik']}\n"
          ]
        }
      ]
    },
    {
      "cell_type": "code",
      "source": [
        "#4.Write a Python program to convert key-values list to flat dictionary?\n",
        "in_list = [('A',10),('B',20),('C',30),('D',40),('E',50),('F',60),('G',70),('H',80),('I',90),('J',100)]\n",
        "\n",
        "# Method #1\n",
        "dict(in_list)\n",
        "\n",
        "# Method #2\n",
        "out_dict = {}\n",
        "for ele in in_list:\n",
        "    out_dict[ele[0]] = ele[1]\n",
        "print(out_dict)"
      ],
      "metadata": {
        "colab": {
          "base_uri": "https://localhost:8080/"
        },
        "id": "43tQuLzDYs8X",
        "outputId": "6b7d3528-10db-4d70-edef-f27010c9c5cd"
      },
      "execution_count": 4,
      "outputs": [
        {
          "output_type": "stream",
          "name": "stdout",
          "text": [
            "{'A': 10, 'B': 20, 'C': 30, 'D': 40, 'E': 50, 'F': 60, 'G': 70, 'H': 80, 'I': 90, 'J': 100}\n"
          ]
        }
      ]
    },
    {
      "cell_type": "code",
      "source": [
        "#5.Write a Python program to insertion at the beginning in OrderedDict?\n",
        "from collections import OrderedDict\n",
        "dict_one = OrderedDict({'Apple':'Iphone','Microsoft':'Windows','Google':'chrome'})\n",
        "print('dict_one',dict_one)\n",
        "dict_two = {'Tesla':'SpaceX'}\n",
        "dict_one.update(dict_two)\n",
        "print('dict_one',dict_one)\n",
        "dict_one.move_to_end('Tesla',last=False)\n",
        "print('dict_one',dict_one)"
      ],
      "metadata": {
        "colab": {
          "base_uri": "https://localhost:8080/"
        },
        "id": "Uw6l8L_CYxB_",
        "outputId": "a30792cb-16b4-4a52-b684-2161d8892ab8"
      },
      "execution_count": 5,
      "outputs": [
        {
          "output_type": "stream",
          "name": "stdout",
          "text": [
            "dict_one OrderedDict([('Apple', 'Iphone'), ('Microsoft', 'Windows'), ('Google', 'chrome')])\n",
            "dict_one OrderedDict([('Apple', 'Iphone'), ('Microsoft', 'Windows'), ('Google', 'chrome'), ('Tesla', 'SpaceX')])\n",
            "dict_one OrderedDict([('Tesla', 'SpaceX'), ('Apple', 'Iphone'), ('Microsoft', 'Windows'), ('Google', 'chrome')])\n"
          ]
        }
      ]
    },
    {
      "cell_type": "code",
      "source": [
        "#6.Write a Python program to check order of character in string using OrderedDict()?\n",
        "from collections import OrderedDict\n",
        "\n",
        "initial_list = {'a': 1000, 'f': 200, 'd': 300, 'c': 400, 'b': 500, 'e': 600}\n",
        "print(initial_list)\n",
        "\n",
        "final_list = OrderedDict(dict(sorted(initial_list.items())))\n",
        "print(final_list)"
      ],
      "metadata": {
        "colab": {
          "base_uri": "https://localhost:8080/"
        },
        "id": "_Qxbf2W7Y1tc",
        "outputId": "f6005aca-a41e-4e02-e3f9-67527f0655c7"
      },
      "execution_count": 6,
      "outputs": [
        {
          "output_type": "stream",
          "name": "stdout",
          "text": [
            "{'a': 1000, 'f': 200, 'd': 300, 'c': 400, 'b': 500, 'e': 600}\n",
            "OrderedDict([('a', 1000), ('b', 500), ('c', 400), ('d', 300), ('e', 600), ('f', 200)])\n"
          ]
        }
      ]
    },
    {
      "cell_type": "code",
      "source": [
        "#7.Write a Python program to sort Python Dictionaries by Key or Value?\n",
        "d_items = {'Mango':100,'PineApple':22,'Banana':60,'Grape':13}\n",
        "\n",
        "def sort_dict(in_dict,sort_type):\n",
        "    if sort_type == 'key':\n",
        "        print(dict(sorted(in_dict.items(), key=lambda x:x[0], reverse=False)))\n",
        "    else:\n",
        "        print(dict(sorted(in_dict.items(), key=lambda x:x[1], reverse=False)))\n",
        "\n",
        "sort_dict(d_items,'key')\n",
        "sort_dict(d_items,'value')\n"
      ],
      "metadata": {
        "colab": {
          "base_uri": "https://localhost:8080/"
        },
        "id": "v4St4i8PY7oq",
        "outputId": "d2d75432-bc4d-48c0-a3ad-e248fdcf3363"
      },
      "execution_count": 7,
      "outputs": [
        {
          "output_type": "stream",
          "name": "stdout",
          "text": [
            "{'Banana': 60, 'Grape': 13, 'Mango': 100, 'PineApple': 22}\n",
            "{'Grape': 13, 'PineApple': 22, 'Banana': 60, 'Mango': 100}\n"
          ]
        }
      ]
    },
    {
      "cell_type": "code",
      "source": [],
      "metadata": {
        "id": "ZVRU7P85ZH3E"
      },
      "execution_count": null,
      "outputs": []
    }
  ]
}