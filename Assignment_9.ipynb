{
  "nbformat": 4,
  "nbformat_minor": 0,
  "metadata": {
    "colab": {
      "provenance": [],
      "authorship_tag": "ABX9TyMAZfNCVoOkRl8NGYQVR9DX",
      "include_colab_link": true
    },
    "kernelspec": {
      "name": "python3",
      "display_name": "Python 3"
    },
    "language_info": {
      "name": "python"
    }
  },
  "cells": [
    {
      "cell_type": "markdown",
      "metadata": {
        "id": "view-in-github",
        "colab_type": "text"
      },
      "source": [
        "<a href=\"https://colab.research.google.com/github/biswaranjandash/FSDSassignments/blob/main/Assignment_9.ipynb\" target=\"_parent\"><img src=\"https://colab.research.google.com/assets/colab-badge.svg\" alt=\"Open In Colab\"/></a>"
      ]
    },
    {
      "cell_type": "code",
      "execution_count": 1,
      "metadata": {
        "colab": {
          "base_uri": "https://localhost:8080/"
        },
        "id": "GuFv7SoV17n7",
        "outputId": "030d57c5-37c6-4f8e-bda2-bca148581aec"
      },
      "outputs": [
        {
          "output_type": "stream",
          "name": "stdout",
          "text": [
            "True\n",
            "True\n",
            "False\n",
            "('\"I could eat ', 'bananas', ' all day, bananas are my favorite fruit\"')\n",
            "('\"I could eat bananas all day, ', 'bananas', ' are my favorite fruit\"')\n",
            "True\n",
            "17\n",
            "1\n",
            "6\n",
            "t\n",
            "A\n",
            "['Ineuron ', ' Full Stack ', ' Data Science ', ' Course ']\n",
            "Finding nemo\n",
            "DATAPIPELINES\n",
            "mlops\n",
            "doloris jane umbridge\n",
            "Data science    Data Analyst\n",
            "1\n",
            "6\n",
            "2\n",
            "['i', 'euro', '']\n",
            "['i', 'euro', '']\n",
            "EDA \n",
            " EDA\n",
            "EDA\n",
            "eXPLORATORY dATA aNALYSIS\n",
            "Iris_flower_Dataset\n",
            "Hello Pam!\n",
            "Hello Pam!\n",
            "I2euro2\n",
            "b'Natural Language Processing'\n",
            "Nemo      \n",
            "      Nemo\n",
            "   Nemo   \n",
            "00000Hello\n"
          ]
        }
      ],
      "source": [
        "#Q1. In Python 3.X, what are the names and functions of string object types?\n",
        "#Ans: The following are the names and functions of string object types in Python 3.X\n",
        "\n",
        "#.<stirng>.isdecimal() -> Returns True if all characters in a string are decimal.\n",
        "#.<string>.isalnum() -> Returns True if all characters in the string are AlphaNumeric.\n",
        "#.<string>.istitle() -> Returns True if first character in a string is in Uppercase.\n",
        "#.<string>.partition(<sub_string>) -> Splits string at first occurance of sub string and returns a tuple of 3 elements.\n",
        "#.<string>.rpartition(<sub_string>) -> Splits string at last occurance of sub string and returns a tuple of 3 elements.\n",
        "#.<string>.isidentifier() -> Returns True if give string is a valid identifier name.\n",
        "#.len(<string>) -> Returns the length of the given string.\n",
        "#.<string>.index(<sub_string>) -> Returns the lowest index of substring if substring is found in the string.\n",
        "#.<string>.rindex(<sub_string>) -> Returns the highest index of substring if substring is found in the string.\n",
        "#.max(<string>) -> Returns the highest Alphabetical Character in the string as per ASCII.\n",
        "#.min(<string>) -> Returns the lowest Alphabetical Character in the string as per ASCII.\n",
        "#.<string>.splitlines() -> Returns a list of lines in the string.\n",
        "#.<string>.capitalize() -> Returns the string with first character capitalized.\n",
        "#.<string>.upper() -> Returns the string with all characters in uppercase.\n",
        "#.<string>.lower() -> Returns the string with all characters in lowercase\n",
        "#.<string>.casefold() -> Returns the string in lowercase which can be used for caseless comparisions.\n",
        "#.<string>.expandtabs(no_of_spaces) -> Replaces tabs in a string with specified no of spaces default is 8\n",
        "#.<string>.find(<sub_string>) -> Returns lowest index of substring if substring is found in the string else returns -1.\n",
        "#.<string>.rfind(<sub_string>) -> Returns highest index of substring if substring is found in the string else returns -1.\n",
        "#.<string>.count(<char>) -> Returns the no of occurances of the char in the given string.\n",
        "#.<string>.split(<sep>) -> Returns list of words seperated by given sep else seperated by whitespace.\n",
        "#.<string>.rsplit(<sep>) -> Returns list of words seperated by given sep else seperated by whitespace scanning from end.\n",
        "#.<string>.lstrip() -> Returns a copy of where leading whitespaces are removed.\n",
        "#.<string>.rstrip() -> Returns a copy of where trailed whitespaces are removed.\n",
        "#.<string>.strip() -> Returns a copy of where both leading and trailing whitespaces are removed.\n",
        "#.<string>.swapcase() -> Swaps lowercase characters with uppercase and vice versa.\n",
        "#.<sep>.join(<list>) -> Concatenates a list or tuple of words with intervening occuernces of sep.\n",
        "#.<string>.translate(<mapping_table>) -> translates the characters using table.\n",
        "#.<string>.maketrans(<dict>) -> Creating a mapping translation tbale usable for <string>.translate(<mapping_table>)\n",
        "#.<string>.replace(<char_1>,<char_2>) -> Replace all occurances of char_1 with char_2 in string.\n",
        "#.<string>.encode() -> Encodes string into any encoding supported by python. Default encoding is UTF-8.\n",
        "#.<string>.ljust(<no_of_spaces>) -> Left-justify in a field of given width.\n",
        "#.<string>.rjust(<no_of_spaces>) -> Right-justify in a field of given width.\n",
        "#.<string>.center(<no_of_spaces>) -> Center-justify in a field of given width.\n",
        "#.<stirng>.zfill(<length>) -> Zfill adds zeros to the begining of string until the specified length is reached.\n",
        "print('1234567890'.isdecimal())\n",
        "print('IneuronFullStackDS'.isalnum())\n",
        "print('Ineuron Full Stack Data science'.istitle())\n",
        "print('\"I could eat bananas all day, bananas are my favorite fruit\"'.partition('bananas'))\n",
        "print('\"I could eat bananas all day, bananas are my favorite fruit\"'.rpartition('bananas'))\n",
        "print('GeeksForFreaks'.isidentifier())\n",
        "print(len('Linear Regression'))\n",
        "print('Ineuron'.index('n'))\n",
        "print('Ineuron'.rindex('n'))\n",
        "print(max('Data_Scientist'))\n",
        "print(min('Data_Analyst'))\n",
        "print('Ineuron \\n Full Stack \\n Data Science \\n Course '.splitlines())\n",
        "print('finding nemo'.capitalize())\n",
        "print('datapipelines'.upper())\n",
        "print('MLOPS'.lower())\n",
        "print('Doloris Jane Umbridge'.casefold())\n",
        "print('Data science\\tData Analyst'.expandtabs(8))\n",
        "print('Ineuron'.find('n'))\n",
        "print('Ineuron'.rfind('n'))\n",
        "print('Transformers'.count('s'))\n",
        "print('ineuron'.split('n'))\n",
        "print('ineuron'.rsplit('n'))\n",
        "print(' EDA '.lstrip())\n",
        "print(' EDA '.rstrip())\n",
        "print(' EDA '.strip())\n",
        "print('Exploratory Data Analysis'.swapcase())\n",
        "print('_'.join(['Iris','flower','Dataset']))\n",
        "\n",
        "mydict = {83:  80}\n",
        "print(\"Hello Sam!\".translate(mydict))\n",
        "\n",
        "txt = \"Hello Sam!\"\n",
        "mytable = txt.maketrans(\"S\", \"P\")\n",
        "print(txt.translate(mytable))\n",
        "\n",
        "print('Ineuron'.replace('n','2'))\n",
        "print('Natural Language Processing'.encode())\n",
        "print('Nemo'.ljust(10))\n",
        "print('Nemo'.rjust(10))\n",
        "print('Nemo'.center(10))\n",
        "print('Hello'.zfill(10))"
      ]
    },
    {
      "cell_type": "code",
      "source": [
        "#"
      ],
      "metadata": {
        "id": "kRqSSraS2_J8"
      },
      "execution_count": null,
      "outputs": []
    }
  ]
}