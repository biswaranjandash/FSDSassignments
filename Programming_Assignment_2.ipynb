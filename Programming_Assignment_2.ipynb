{
  "nbformat": 4,
  "nbformat_minor": 0,
  "metadata": {
    "colab": {
      "provenance": [],
      "authorship_tag": "ABX9TyO0Bd4qieCmd915Z69U0KDI",
      "include_colab_link": true
    },
    "kernelspec": {
      "name": "python3",
      "display_name": "Python 3"
    },
    "language_info": {
      "name": "python"
    }
  },
  "cells": [
    {
      "cell_type": "markdown",
      "metadata": {
        "id": "view-in-github",
        "colab_type": "text"
      },
      "source": [
        "<a href=\"https://colab.research.google.com/github/biswaranjandash/FSDSassignments/blob/Python_Programming-Assignment/Programming_Assignment_2.ipynb\" target=\"_parent\"><img src=\"https://colab.research.google.com/assets/colab-badge.svg\" alt=\"Open In Colab\"/></a>"
      ]
    },
    {
      "cell_type": "code",
      "execution_count": 1,
      "metadata": {
        "colab": {
          "base_uri": "https://localhost:8080/"
        },
        "id": "zv952KItvi5v",
        "outputId": "418609be-43b5-444c-ce7a-139b976cfaf4"
      },
      "outputs": [
        {
          "output_type": "stream",
          "name": "stdout",
          "text": [
            "Enter no of kilometers : 5\n",
            "5.0 km is Equal to 3.105 miles\n"
          ]
        }
      ],
      "source": [
        "#1.Write a Python program to convert Kilometers to Miles ?\n",
        "def kmToMiles():\n",
        "    kiloMeters = float(input(\"Enter no of kilometers : \"))\n",
        "    print(\"{} km is Equal to {} miles\".format(kiloMeters,kiloMeters*0.621))\n",
        "\n",
        "kmToMiles()"
      ]
    },
    {
      "cell_type": "code",
      "source": [
        "#2.Write a Python program to convert Celsius to Farenheit ?\n",
        "def celToFarh():\n",
        "    celsius = int(input(\"Enter temperature in celsius : \"))\n",
        "    Farenheit = (celsius*(9/5))+32\n",
        "    print(\"{}° Celsius is Equal to {}° Farenheit\".format(celsius,Farenheit))\n",
        "\n",
        "celToFarh()"
      ],
      "metadata": {
        "colab": {
          "base_uri": "https://localhost:8080/"
        },
        "id": "egsGYphcvxru",
        "outputId": "5266d608-f5fc-4b37-d036-dff303e3bdd0"
      },
      "execution_count": 2,
      "outputs": [
        {
          "output_type": "stream",
          "name": "stdout",
          "text": [
            "Enter temperature in celsius : 35\n",
            "35° Celsius is Equal to 95.0° Farenheit\n"
          ]
        }
      ]
    },
    {
      "cell_type": "code",
      "source": [
        "#3.Write a Python program to display calender ?\n",
        "import calendar\n",
        "\n",
        "def showCalender():\n",
        "    year = int(input(\"Enter calender year: \"))\n",
        "    print(calendar.calendar(year))\n",
        "\n",
        "showCalender()"
      ],
      "metadata": {
        "colab": {
          "base_uri": "https://localhost:8080/"
        },
        "id": "ZdfVfRJ6v89V",
        "outputId": "1eb57868-591a-4657-ae00-84959e527075"
      },
      "execution_count": 4,
      "outputs": [
        {
          "output_type": "stream",
          "name": "stdout",
          "text": [
            "Enter calender year: 2023\n",
            "                                  2023\n",
            "\n",
            "      January                   February                   March\n",
            "Mo Tu We Th Fr Sa Su      Mo Tu We Th Fr Sa Su      Mo Tu We Th Fr Sa Su\n",
            "                   1             1  2  3  4  5             1  2  3  4  5\n",
            " 2  3  4  5  6  7  8       6  7  8  9 10 11 12       6  7  8  9 10 11 12\n",
            " 9 10 11 12 13 14 15      13 14 15 16 17 18 19      13 14 15 16 17 18 19\n",
            "16 17 18 19 20 21 22      20 21 22 23 24 25 26      20 21 22 23 24 25 26\n",
            "23 24 25 26 27 28 29      27 28                     27 28 29 30 31\n",
            "30 31\n",
            "\n",
            "       April                      May                       June\n",
            "Mo Tu We Th Fr Sa Su      Mo Tu We Th Fr Sa Su      Mo Tu We Th Fr Sa Su\n",
            "                1  2       1  2  3  4  5  6  7                1  2  3  4\n",
            " 3  4  5  6  7  8  9       8  9 10 11 12 13 14       5  6  7  8  9 10 11\n",
            "10 11 12 13 14 15 16      15 16 17 18 19 20 21      12 13 14 15 16 17 18\n",
            "17 18 19 20 21 22 23      22 23 24 25 26 27 28      19 20 21 22 23 24 25\n",
            "24 25 26 27 28 29 30      29 30 31                  26 27 28 29 30\n",
            "\n",
            "        July                     August                  September\n",
            "Mo Tu We Th Fr Sa Su      Mo Tu We Th Fr Sa Su      Mo Tu We Th Fr Sa Su\n",
            "                1  2          1  2  3  4  5  6                   1  2  3\n",
            " 3  4  5  6  7  8  9       7  8  9 10 11 12 13       4  5  6  7  8  9 10\n",
            "10 11 12 13 14 15 16      14 15 16 17 18 19 20      11 12 13 14 15 16 17\n",
            "17 18 19 20 21 22 23      21 22 23 24 25 26 27      18 19 20 21 22 23 24\n",
            "24 25 26 27 28 29 30      28 29 30 31               25 26 27 28 29 30\n",
            "31\n",
            "\n",
            "      October                   November                  December\n",
            "Mo Tu We Th Fr Sa Su      Mo Tu We Th Fr Sa Su      Mo Tu We Th Fr Sa Su\n",
            "                   1             1  2  3  4  5                   1  2  3\n",
            " 2  3  4  5  6  7  8       6  7  8  9 10 11 12       4  5  6  7  8  9 10\n",
            " 9 10 11 12 13 14 15      13 14 15 16 17 18 19      11 12 13 14 15 16 17\n",
            "16 17 18 19 20 21 22      20 21 22 23 24 25 26      18 19 20 21 22 23 24\n",
            "23 24 25 26 27 28 29      27 28 29 30               25 26 27 28 29 30 31\n",
            "30 31\n",
            "\n"
          ]
        }
      ]
    },
    {
      "cell_type": "code",
      "source": [
        "#4.Write a Python program to solve quadartic equation ?\n",
        "import cmath\n",
        "import math\n",
        "\n",
        "def quadarticEquationRoots(a,b,c):\n",
        "\n",
        "    discriminant = b*b-4*a*c\n",
        "\n",
        "    if discriminant == 0:\n",
        "        r1 = -b/2*a\n",
        "        r2 = -b/2*a\n",
        "        print(\"Roots are Real\",r1,r2)\n",
        "    elif discriminant > 0:\n",
        "        r1 = (-b-math.sqrt(discriminant))/(2 * a)\n",
        "        r2 = (-b+math.sqrt(discriminant))/(2 * a)\n",
        "        print(\"Roots are Real and different\",r1,r2)\n",
        "    else:\n",
        "        r1 = (-b-cmath.sqrt(discriminant))/(2 * a)\n",
        "        r2 = (-b+cmath.sqrt(discriminant))/(2 * a)\n",
        "        print(\"Roots are Imaginary\",r1,r2)\n",
        "\n",
        "\n",
        "a = int(input('Enter a value: '))\n",
        "b = int(input('Enter b value: '))\n",
        "c = int(input('Enter c value: '))\n",
        "\n",
        "quadarticEquationRoots(a,b,c)"
      ],
      "metadata": {
        "colab": {
          "base_uri": "https://localhost:8080/"
        },
        "id": "t_WU9JVAwKPU",
        "outputId": "21aa2ef8-8b41-462f-befb-560ae48bbc1c"
      },
      "execution_count": 5,
      "outputs": [
        {
          "output_type": "stream",
          "name": "stdout",
          "text": [
            "Enter a value: 3\n",
            "Enter b value: 6\n",
            "Enter c value: 9\n",
            "Roots are Imaginary (-1-1.414213562373095j) (-1+1.414213562373095j)\n"
          ]
        }
      ]
    },
    {
      "cell_type": "code",
      "source": [
        "#5.Write a Python program to swap two variables without temp variable ?\n",
        "num_1 = int(input('Enter first number: '))\n",
        "num_2 = int(input('Enter second number: '))\n",
        "\n",
        "\n",
        "def swapNumbers(num_1,num_2):\n",
        "        print('Before Swapping',num_1,num_2)\n",
        "        num_1 = num_1+num_2\n",
        "        num_2 = num_1-num_2\n",
        "        num_1 = num_1-num_2\n",
        "        print('before Swapping',num_1,num_2)\n",
        "\n",
        "swapNumbers(num_1,num_2)"
      ],
      "metadata": {
        "colab": {
          "base_uri": "https://localhost:8080/"
        },
        "id": "E6nnZUHcwUS8",
        "outputId": "9cab356f-75bd-4449-abd7-c6d911ebcb5a"
      },
      "execution_count": 6,
      "outputs": [
        {
          "output_type": "stream",
          "name": "stdout",
          "text": [
            "Enter first number: 20\n",
            "Enter second number: 30\n",
            "Before Swapping 20 30\n",
            "before Swapping 30 20\n"
          ]
        }
      ]
    },
    {
      "cell_type": "code",
      "source": [],
      "metadata": {
        "id": "gM-96TaMwdUK"
      },
      "execution_count": null,
      "outputs": []
    }
  ]
}