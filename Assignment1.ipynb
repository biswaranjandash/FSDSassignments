{
  "nbformat": 4,
  "nbformat_minor": 0,
  "metadata": {
    "colab": {
      "name": "Assignment1.ipynb",
      "provenance": [],
      "collapsed_sections": []
    },
    "kernelspec": {
      "name": "python3",
      "display_name": "Python 3"
    },
    "language_info": {
      "name": "python"
    }
  },
  "cells": [
    {
      "cell_type": "code",
      "execution_count": 8,
      "metadata": {
        "id": "cOOLm_e73SrX"
      },
      "outputs": [],
      "source": [
        "#1. In the below elements which of them are values or an expression? eg:- values can be integer or string and expressions will be mathematical operators.\n",
        "\n",
        "# * is a expression\n",
        "# 'hello is a value\n",
        "# -87.8 is value\n",
        "#  - is a expression\n",
        "#  / is a expression \n",
        "#  + is a expression\n",
        "# 6 is a value"
      ]
    },
    {
      "cell_type": "code",
      "source": [
        " # 2. What is the difference between string and variable?\n",
        " # string is a data type used in programming it is used to represent text. example \"biswaranjan\".\n",
        " # variable is a reserved memory location to store values."
      ],
      "metadata": {
        "id": "P-ZFmISd3oAj"
      },
      "execution_count": 9,
      "outputs": []
    },
    {
      "cell_type": "code",
      "source": [
        "# 3. Describe three different data types.\n",
        "# list = list is used for storing multiple data in a single variable.\n",
        "# float = float is used to store floating values . example 12.1,100.25 .\n",
        "# integer = integer is used to store only numerical value ."
      ],
      "metadata": {
        "id": "lrIBZvdY8U5y"
      },
      "execution_count": 10,
      "outputs": []
    },
    {
      "cell_type": "code",
      "source": [
        "# 4. What is an expression made up of? What do all expressions do?\n",
        "# expression made up of  combination of operators and operands  and expressions  used to evalute the value or show the result on the screen "
      ],
      "metadata": {
        "id": "8noUTREp9z3o"
      },
      "execution_count": 11,
      "outputs": []
    },
    {
      "cell_type": "code",
      "source": [
        "# 5. This assignment statements, like spam = 10. What is the difference between an expression and a statement?\n",
        "# the expression made up of combination of operaters and operands .\n",
        "# a statemant is a command that a python interpreter executes like print ."
      ],
      "metadata": {
        "id": "grZw-eaa_I31"
      },
      "execution_count": 12,
      "outputs": []
    },
    {
      "cell_type": "code",
      "source": [
        "# 6. After running the following code, what does the variable bacon contain?\n",
        "bacon = 22\n",
        "bacon + 1"
      ],
      "metadata": {
        "colab": {
          "base_uri": "https://localhost:8080/"
        },
        "id": "SjGyKf1cAJ3T",
        "outputId": "7531ac64-ec93-4a08-9f65-f04a95257290"
      },
      "execution_count": 13,
      "outputs": [
        {
          "output_type": "execute_result",
          "data": {
            "text/plain": [
              "23"
            ]
          },
          "metadata": {},
          "execution_count": 13
        }
      ]
    },
    {
      "cell_type": "code",
      "source": [
        "# 7. What should the values of the following two terms be?\n",
        "'spam' + 'spamspam' \n"
      ],
      "metadata": {
        "colab": {
          "base_uri": "https://localhost:8080/",
          "height": 36
        },
        "id": "pSpXnPI6ASAX",
        "outputId": "f3f09340-1be0-41e0-81ab-42a5d51beffc"
      },
      "execution_count": 16,
      "outputs": [
        {
          "output_type": "execute_result",
          "data": {
            "text/plain": [
              "'spamspamspam'"
            ],
            "application/vnd.google.colaboratory.intrinsic+json": {
              "type": "string"
            }
          },
          "metadata": {},
          "execution_count": 16
        }
      ]
    },
    {
      "cell_type": "code",
      "source": [
        "'spam' * 3"
      ],
      "metadata": {
        "colab": {
          "base_uri": "https://localhost:8080/",
          "height": 36
        },
        "id": "wptHN5OrAsus",
        "outputId": "51a98ae6-b479-4100-d8fc-1f93ec47f58f"
      },
      "execution_count": 17,
      "outputs": [
        {
          "output_type": "execute_result",
          "data": {
            "text/plain": [
              "'spamspamspam'"
            ],
            "application/vnd.google.colaboratory.intrinsic+json": {
              "type": "string"
            }
          },
          "metadata": {},
          "execution_count": 17
        }
      ]
    },
    {
      "cell_type": "code",
      "source": [
        "# 8. Why is eggs a valid variable name while 100 is invalid?\n",
        "# eggs a valid variable name while 100 is invalid because  variable names cannot begin with a number ."
      ],
      "metadata": {
        "id": "Ps9jZFpDA626"
      },
      "execution_count": 18,
      "outputs": []
    },
    {
      "cell_type": "code",
      "source": [
        "# 9. What three functions can be used to get the integer, floating-point number, or string version of a value?\n",
        "# integer = int() , floating-point number = float() , string = str() ."
      ],
      "metadata": {
        "id": "PW2O9PjbBznc"
      },
      "execution_count": 19,
      "outputs": []
    },
    {
      "cell_type": "code",
      "source": [
        "#10. Why does this expression cause an error? How can you fix it?\n",
        "'i have eaten' + 99 + 'burritos'"
      ],
      "metadata": {
        "colab": {
          "base_uri": "https://localhost:8080/",
          "height": 182
        },
        "id": "sPzioHmOCaax",
        "outputId": "33f08907-da72-4913-b3e1-21410006f062"
      },
      "execution_count": 21,
      "outputs": [
        {
          "output_type": "error",
          "ename": "TypeError",
          "evalue": "ignored",
          "traceback": [
            "\u001b[0;31m---------------------------------------------------------------------------\u001b[0m",
            "\u001b[0;31mTypeError\u001b[0m                                 Traceback (most recent call last)",
            "\u001b[0;32m<ipython-input-21-603107bbc84c>\u001b[0m in \u001b[0;36m<module>\u001b[0;34m()\u001b[0m\n\u001b[1;32m      1\u001b[0m \u001b[0;31m#10. Why does this expression cause an error? How can you fix it?\u001b[0m\u001b[0;34m\u001b[0m\u001b[0;34m\u001b[0m\u001b[0;34m\u001b[0m\u001b[0m\n\u001b[0;32m----> 2\u001b[0;31m \u001b[0;34m'i have eaten'\u001b[0m \u001b[0;34m+\u001b[0m \u001b[0;36m99\u001b[0m \u001b[0;34m+\u001b[0m \u001b[0;34m'burritos'\u001b[0m\u001b[0;34m\u001b[0m\u001b[0;34m\u001b[0m\u001b[0m\n\u001b[0m",
            "\u001b[0;31mTypeError\u001b[0m: can only concatenate str (not \"int\") to str"
          ]
        }
      ]
    },
    {
      "cell_type": "code",
      "source": [
        "# ANS = 99 is a integer it cannot be concatenate with string, if we have to concatenate it we need to do typecasting."
      ],
      "metadata": {
        "id": "M6dyjGbhCtyu"
      },
      "execution_count": null,
      "outputs": []
    }
  ]
}